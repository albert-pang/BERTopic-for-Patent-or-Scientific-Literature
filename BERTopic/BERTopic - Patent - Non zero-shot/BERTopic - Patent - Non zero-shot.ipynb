{
 "cells": [
  {
   "cell_type": "code",
   "execution_count": 1,
   "metadata": {},
   "outputs": [
    {
     "data": {
      "text/plain": [
       "<spacy.lang.en.English at 0x1ccb8b1aa60>"
      ]
     },
     "execution_count": 1,
     "metadata": {},
     "output_type": "execute_result"
    }
   ],
   "source": [
    "from spacy_download import load_spacy\n",
    "\n",
    "# Will download the model if it isn't installed yet\n",
    "load_spacy(\"en_core_web_sm\")"
   ]
  },
  {
   "cell_type": "code",
   "execution_count": 2,
   "metadata": {},
   "outputs": [
    {
     "name": "stderr",
     "output_type": "stream",
     "text": [
      "c:\\Users\\alber\\anaconda3\\envs\\bertopicnew\\lib\\site-packages\\tqdm\\auto.py:21: TqdmWarning: IProgress not found. Please update jupyter and ipywidgets. See https://ipywidgets.readthedocs.io/en/stable/user_install.html\n",
      "  from .autonotebook import tqdm as notebook_tqdm\n"
     ]
    }
   ],
   "source": [
    "# Libraries\n",
    "import pandas as pd\n",
    "from bertopic import BERTopic\n",
    "from bertopic.representation import KeyBERTInspired, MaximalMarginalRelevance, OpenAI, PartOfSpeech\n",
    "from bertopic.vectorizers import ClassTfidfTransformer\n",
    "from sklearn.feature_extraction.text import ENGLISH_STOP_WORDS\n",
    "from sklearn.feature_extraction.text import CountVectorizer\n",
    "import re\n",
    "from io import StringIO\n",
    "import matplotlib.pyplot as plt\n",
    "import nltk\n",
    "from nltk import word_tokenize\n",
    "from nltk.corpus import stopwords\n",
    "from sentence_transformers import SentenceTransformer\n",
    "from umap import UMAP\n",
    "from hdbscan import HDBSCAN\n",
    "import spacy\n",
    "from keybert import KeyBERT\n",
    "import pickle\n",
    "import seaborn as sns"
   ]
  },
  {
   "cell_type": "code",
   "execution_count": 3,
   "metadata": {},
   "outputs": [
    {
     "data": {
      "text/plain": [
       "'0.16.2'"
      ]
     },
     "execution_count": 3,
     "metadata": {},
     "output_type": "execute_result"
    }
   ],
   "source": [
    "import bertopic\n",
    "bertopic.__version__"
   ]
  },
  {
   "cell_type": "code",
   "execution_count": 4,
   "metadata": {},
   "outputs": [],
   "source": [
    "# Define additional words to remove, including 'nan' for empty cells\n",
    "custom_words_to_remove = ['nan']\n",
    "\n",
    "# Function to preprocess text\n",
    "def preprocess_text(text):\n",
    "    # Tokenize\n",
    "    tokens = word_tokenize(text)\n",
    "    \n",
    "    # Remove stopwords and additional custom words\n",
    "    words_filtered = [word for word in tokens if word not in custom_words_to_remove]\n",
    "    return \" \".join(words_filtered)"
   ]
  },
  {
   "cell_type": "code",
   "execution_count": 5,
   "metadata": {},
   "outputs": [],
   "source": [
    "# Preprocess the Dataset\n",
    "\n",
    "# Define the path to your original CSV file\n",
    "file_path = r'C:\\Users\\alber\\Desktop\\BERTopic\\uber_only.csv'\n",
    "\n",
    "# Read the CSV file as a text string and correct the header\n",
    "with open(file_path, 'r', encoding='utf-8') as file:\n",
    "    file_content = file.read()\n",
    "lines = file_content.splitlines()\n",
    "if lines and ',' not in lines[2][-1]:\n",
    "    lines[2] += ','  # Add a comma to the end of the header row\n",
    "corrected_content = '\\n'.join(lines)\n",
    "corrected_file = StringIO(corrected_content)\n",
    "\n",
    "# Load the corrected content into a pandas DataFrame\n",
    "df = pd.read_csv(corrected_file, sep=',', header=2)\n",
    "\n",
    "# Combine 'Title - DWPI' and 'Abstract - DWPI', with fallback to 'Title' and 'Abstract'\n",
    "df['text'] = df.apply(lambda row: row['Title - DWPI'] if pd.notnull(row['Title - DWPI']) and row['Title - DWPI'].strip() else row['Title'], axis=1).astype(str) + \" \" + df.apply(lambda row: row['Abstract - DWPI'] if pd.notnull(row['Abstract - DWPI']) and row['Abstract - DWPI'].strip() else row['Abstract'], axis=1).astype(str)\n",
    "\n",
    "# Apply text preprocessing with lemmatization\n",
    "df['clean_text'] = df['text'].apply(preprocess_text)\n",
    "\n",
    "# Prepare the timestamps and filter out NaN values\n",
    "df['Publication Date'] = pd.to_datetime(df['Publication Date'], format='%Y-%m-%d', errors='coerce')\n",
    "df = df.dropna(subset=['Publication Date'])  # Drop rows where 'Publication Date' is NaT/NaN (7 missing rows)\n",
    "timestamps = df['Publication Date'].tolist()"
   ]
  },
  {
   "cell_type": "code",
   "execution_count": 6,
   "metadata": {},
   "outputs": [
    {
     "data": {
      "text/plain": [
       "(848, 18)"
      ]
     },
     "execution_count": 6,
     "metadata": {},
     "output_type": "execute_result"
    }
   ],
   "source": [
    "df.shape"
   ]
  },
  {
   "cell_type": "code",
   "execution_count": 7,
   "metadata": {},
   "outputs": [
    {
     "name": "stdout",
     "output_type": "stream",
     "text": [
      "0    Board unit for use in communication device , h...\n",
      "1    Communication method for alarm installation in...\n",
      "2    Status data providing method for vehicle monit...\n",
      "3    User notification method in centralized monito...\n",
      "4    Gasket for electromagnetic shielding of gap in...\n",
      "Name: clean_text, dtype: object\n"
     ]
    }
   ],
   "source": [
    "print(df['clean_text'].head())"
   ]
  },
  {
   "cell_type": "code",
   "execution_count": null,
   "metadata": {},
   "outputs": [
    {
     "name": "stderr",
     "output_type": "stream",
     "text": [
      "Batches: 100%|██████████| 27/27 [11:47<00:00, 26.21s/it]\n"
     ]
    }
   ],
   "source": [
    "# Pre-calculate embeddings for the first time\n",
    "embedding_model = SentenceTransformer('AI-Growth-Lab/PatentSBERTa')\n",
    "embeddings = embedding_model.encode(df['clean_text'].to_list(), show_progress_bar=True)"
   ]
  },
  {
   "cell_type": "code",
   "execution_count": 13,
   "metadata": {},
   "outputs": [],
   "source": [
    "# Save embeddings to a pickle file\n",
    "with open('embeddings_patent_nonzeroshot.pkl', 'wb') as file:\n",
    "    pickle.dump(embeddings, file)"
   ]
  },
  {
   "cell_type": "code",
   "execution_count": 8,
   "metadata": {},
   "outputs": [],
   "source": [
    "# Load embeddings from a pickle file\n",
    "with open('embeddings_patent_nonzeroshot.pkl', 'rb') as file:\n",
    "    embeddings = pickle.load(file)"
   ]
  },
  {
   "cell_type": "code",
   "execution_count": 9,
   "metadata": {},
   "outputs": [],
   "source": [
    "# Load this if only you only load your pickle and you don't recalculate embeddings\n",
    "embedding_model = SentenceTransformer('AI-Growth-Lab/PatentSBERTa')"
   ]
  },
  {
   "cell_type": "code",
   "execution_count": 10,
   "metadata": {},
   "outputs": [],
   "source": [
    "umap_model = UMAP(n_neighbors=20, n_components=10, min_dist=0.0, metric='cosine', random_state=42)"
   ]
  },
  {
   "cell_type": "code",
   "execution_count": 11,
   "metadata": {},
   "outputs": [],
   "source": [
    "hdbscan_model = HDBSCAN(min_cluster_size=50, min_samples=5,\n",
    "                        metric='euclidean',\n",
    "                        cluster_selection_method='eom',\n",
    "                        gen_min_span_tree=True,\n",
    "                        prediction_data=True)"
   ]
  },
  {
   "cell_type": "code",
   "execution_count": 12,
   "metadata": {},
   "outputs": [],
   "source": [
    "stopwords = list(stopwords.words('english')) + ['http', 'https', 'amp', 'com', 'thereof']\n",
    "vectorizer_model = CountVectorizer(stop_words=stopwords, min_df=1, ngram_range=(1, 2))"
   ]
  },
  {
   "cell_type": "code",
   "execution_count": 13,
   "metadata": {},
   "outputs": [],
   "source": [
    "ctfidf_model = ClassTfidfTransformer(reduce_frequent_words=True)"
   ]
  },
  {
   "cell_type": "code",
   "execution_count": 14,
   "metadata": {},
   "outputs": [],
   "source": [
    "# KeyBERT\n",
    "keybert_model = KeyBERTInspired()\n",
    "\n",
    "# Part-of-Speech\n",
    "pos_model = PartOfSpeech(\"en_core_web_sm\")\n",
    "\n",
    "# MMR\n",
    "mmr_model = MaximalMarginalRelevance(diversity=0.3)\n",
    "\n",
    "# GPT-3.5\n",
    "prompt = \"\"\"\n",
    "I have a topic that contains the following documents:\n",
    "[DOCUMENTS]\n",
    "The topic is described by the following keywords: [KEYWORDS]\n",
    "\n",
    "Based on the information above, extract a short but highly descriptive topic label of at most 5 words. Make sure it is in the following format:\n",
    "topic: <topic label>\n",
    "\"\"\"\n",
    "#client = openai.OpenAI(api_key=\"sk-...\")\n",
    "#openai_model = OpenAI(client, model=\"gpt-3.5-turbo\", exponential_backoff=True, chat=True, prompt=prompt)\n",
    "\n",
    "# All representation models\n",
    "representation_model = {\n",
    "    \"KeyBERT\": keybert_model,\n",
    "    # \"OpenAI\": openai_model,  # Uncomment if you will use OpenAI\n",
    "    \"MMR\": mmr_model,\n",
    "    \"POS\": pos_model\n",
    "}"
   ]
  },
  {
   "cell_type": "code",
   "execution_count": 15,
   "metadata": {},
   "outputs": [
    {
     "name": "stderr",
     "output_type": "stream",
     "text": [
      "2024-11-07 00:53:28,190 - BERTopic - Dimensionality - Fitting the dimensionality reduction algorithm\n",
      "2024-11-07 00:53:36,288 - BERTopic - Dimensionality - Completed ✓\n",
      "2024-11-07 00:53:36,289 - BERTopic - Cluster - Start clustering the reduced embeddings\n",
      "2024-11-07 00:53:36,326 - BERTopic - Cluster - Completed ✓\n",
      "2024-11-07 00:53:36,326 - BERTopic - Representation - Extracting topics from clusters using representation models.\n",
      "2024-11-07 00:53:54,791 - BERTopic - Representation - Completed ✓\n",
      "2024-11-07 00:53:54,801 - BERTopic - Topic reduction - Reducing number of topics\n",
      "2024-11-07 00:54:16,711 - BERTopic - Topic reduction - Reduced number of topics from 4 to 4\n"
     ]
    }
   ],
   "source": [
    "topic_model = BERTopic(\n",
    "  # Pipeline models\n",
    "  embedding_model=embedding_model,\n",
    "  ctfidf_model=ctfidf_model,\n",
    "  umap_model=umap_model,\n",
    "  hdbscan_model=hdbscan_model,\n",
    "  vectorizer_model=vectorizer_model,\n",
    "  representation_model=representation_model,\n",
    "  nr_topics=\"auto\",\n",
    "  verbose=True\n",
    ")\n",
    "\n",
    "topics, probs = topic_model.fit_transform(df['clean_text'].to_list(), embeddings)"
   ]
  },
  {
   "cell_type": "code",
   "execution_count": 16,
   "metadata": {},
   "outputs": [
    {
     "name": "stderr",
     "output_type": "stream",
     "text": [
      "19it [00:02,  9.21it/s]\n"
     ]
    },
    {
     "data": {
      "application/vnd.plotly.v1+json": {
       "config": {
        "plotlyServerURL": "https://plot.ly"
       },
       "data": [
        {
         "hoverinfo": "text",
         "hovertext": [
          "<b>Topic 0</b><br>Words: alarm, installation, installation instructions, remote processing, alarm installation",
          "<b>Topic 0</b><br>Words: subsidized, mobile unit, billing, telephone, billing rate",
          "<b>Topic 0</b><br>Words: location based, based event, attribute information, rules, event occurred",
          "<b>Topic 0</b><br>Words: demand service, demand, information, sub regions, supplied sub",
          "<b>Topic 0</b><br>Words: price, price change, verify price, verify, user verify",
          "<b>Topic 0</b><br>Words: message, indication device, indication, device, service",
          "<b>Topic 0</b><br>Words: service, device, transport, network, system",
          "<b>Topic 0</b><br>Words: service, device, system, transport, network",
          "<b>Topic 0</b><br>Words: service, device, network, system, user",
          "<b>Topic 0</b><br>Words: service, device, network, computing, system",
          "<b>Topic 0</b><br>Words: service, network, system, provider, device",
          "<b>Topic 0</b><br>Words: service, user, computing, network, transport",
          "<b>Topic 0</b><br>Words: service, transport, network, computing, user"
         ],
         "marker": {
          "color": "#E69F00"
         },
         "mode": "lines",
         "name": "0_service_network_device_user",
         "type": "scatter",
         "x": [
          "2006-12-28T10:48:00",
          "2009-09-17T19:12:00",
          "2010-08-15T06:00:00",
          "2015-02-27T12:00:00",
          "2016-01-24T22:48:00",
          "2016-12-21T09:36:00",
          "2017-11-17T20:24:00",
          "2018-10-15T07:12:00",
          "2019-09-11T18:00:00",
          "2020-08-08T04:48:00",
          "2021-07-05T15:36:00",
          "2022-06-02T02:24:00",
          "2023-04-29T13:12:00"
         ],
         "y": [
          1,
          1,
          1,
          2,
          1,
          9,
          21,
          40,
          44,
          39,
          40,
          33,
          44
         ]
        },
        {
         "hoverinfo": "text",
         "hovertext": [
          "<b>Topic 1</b><br>Words: status data, status, length data, fixed length, length",
          "<b>Topic 1</b><br>Words: user notification, notification, based decoded, home security, notification instructions",
          "<b>Topic 1</b><br>Words: entrance, detection street, street side, entrance detection, multi dimensional",
          "<b>Topic 1</b><br>Words: steering, automated vehicle, clutch, automated, gear",
          "<b>Topic 1</b><br>Words: sensor, vehicle, autonomous, autonomous vehicle, control",
          "<b>Topic 1</b><br>Words: vehicle, autonomous, autonomous vehicle, system, sensor",
          "<b>Topic 1</b><br>Words: vehicle, autonomous, autonomous vehicle, system, sensor",
          "<b>Topic 1</b><br>Words: autonomous, vehicle, autonomous vehicle, test, system",
          "<b>Topic 1</b><br>Words: autonomous vehicle, vehicle, autonomous, rider, intent",
          "<b>Topic 1</b><br>Words: vehicle, electric, autonomous, light electric, autonomous vehicle",
          "<b>Topic 1</b><br>Words: vehicle, autonomous, autonomous vehicle, computing system, computing",
          "<b>Topic 1</b><br>Words: vehicle, autonomous, autonomous vehicle, computing system, system"
         ],
         "marker": {
          "color": "#56B4E9"
         },
         "mode": "lines",
         "name": "1_vehicle_autonomous_autonomous vehicle_...",
         "type": "scatter",
         "x": [
          "2007-11-24T21:36:00",
          "2008-10-21T08:24:00",
          "2015-02-27T12:00:00",
          "2016-01-24T22:48:00",
          "2016-12-21T09:36:00",
          "2017-11-17T20:24:00",
          "2018-10-15T07:12:00",
          "2019-09-11T18:00:00",
          "2020-08-08T04:48:00",
          "2021-07-05T15:36:00",
          "2022-06-02T02:24:00",
          "2023-04-29T13:12:00"
         ],
         "y": [
          1,
          1,
          1,
          3,
          19,
          43,
          73,
          21,
          12,
          13,
          25,
          23
         ]
        },
        {
         "hoverinfo": "text",
         "hovertext": [
          "<b>Topic 2</b><br>Words: data objects, objects, spatial data, objects map, database referencing",
          "<b>Topic 2</b><br>Words: polyline, specified, node, point polyline, node including",
          "<b>Topic 2</b><br>Words: link, original, cost, pois, city",
          "<b>Topic 2</b><br>Words: traffic information, navigation guidance, providing navigation, device global, received traffic",
          "<b>Topic 2</b><br>Words: description, original, abbreviated, description original, abbreviated description",
          "<b>Topic 2</b><br>Words: pois, set pois, routing point, map, providing routing",
          "<b>Topic 2</b><br>Words: transition, point, transition zone, defining, within",
          "<b>Topic 2</b><br>Words: route, location, map, providing, method",
          "<b>Topic 2</b><br>Words: location, trip, driver, based, method",
          "<b>Topic 2</b><br>Words: route, navigation, guidance, user, search",
          "<b>Topic 2</b><br>Words: location, trip, method, route, data",
          "<b>Topic 2</b><br>Words: location, route, method, image, map",
          "<b>Topic 2</b><br>Words: location, route, information, point, method",
          "<b>Topic 2</b><br>Words: location, user, places, device, method",
          "<b>Topic 2</b><br>Words: location, route, user, method, based"
         ],
         "marker": {
          "color": "#009E73"
         },
         "mode": "lines",
         "name": "2_location_route_method_user",
         "type": "scatter",
         "x": [
          "2009-09-17T19:12:00",
          "2010-08-15T06:00:00",
          "2012-06-08T03:36:00",
          "2013-05-05T14:24:00",
          "2014-04-02T01:12:00",
          "2015-02-27T12:00:00",
          "2016-01-24T22:48:00",
          "2016-12-21T09:36:00",
          "2017-11-17T20:24:00",
          "2018-10-15T07:12:00",
          "2019-09-11T18:00:00",
          "2020-08-08T04:48:00",
          "2021-07-05T15:36:00",
          "2022-06-02T02:24:00",
          "2023-04-29T13:12:00"
         ],
         "y": [
          1,
          2,
          4,
          1,
          1,
          2,
          6,
          12,
          22,
          17,
          52,
          28,
          25,
          16,
          21
         ]
        }
       ],
       "layout": {
        "height": 450,
        "hoverlabel": {
         "bgcolor": "white",
         "font": {
          "family": "Rockwell",
          "size": 16
         }
        },
        "legend": {
         "title": {
          "text": "<b>Global Topic Representation"
         }
        },
        "template": {
         "data": {
          "bar": [
           {
            "error_x": {
             "color": "rgb(36,36,36)"
            },
            "error_y": {
             "color": "rgb(36,36,36)"
            },
            "marker": {
             "line": {
              "color": "white",
              "width": 0.5
             },
             "pattern": {
              "fillmode": "overlay",
              "size": 10,
              "solidity": 0.2
             }
            },
            "type": "bar"
           }
          ],
          "barpolar": [
           {
            "marker": {
             "line": {
              "color": "white",
              "width": 0.5
             },
             "pattern": {
              "fillmode": "overlay",
              "size": 10,
              "solidity": 0.2
             }
            },
            "type": "barpolar"
           }
          ],
          "carpet": [
           {
            "aaxis": {
             "endlinecolor": "rgb(36,36,36)",
             "gridcolor": "white",
             "linecolor": "white",
             "minorgridcolor": "white",
             "startlinecolor": "rgb(36,36,36)"
            },
            "baxis": {
             "endlinecolor": "rgb(36,36,36)",
             "gridcolor": "white",
             "linecolor": "white",
             "minorgridcolor": "white",
             "startlinecolor": "rgb(36,36,36)"
            },
            "type": "carpet"
           }
          ],
          "choropleth": [
           {
            "colorbar": {
             "outlinewidth": 1,
             "tickcolor": "rgb(36,36,36)",
             "ticks": "outside"
            },
            "type": "choropleth"
           }
          ],
          "contour": [
           {
            "colorbar": {
             "outlinewidth": 1,
             "tickcolor": "rgb(36,36,36)",
             "ticks": "outside"
            },
            "colorscale": [
             [
              0,
              "#440154"
             ],
             [
              0.1111111111111111,
              "#482878"
             ],
             [
              0.2222222222222222,
              "#3e4989"
             ],
             [
              0.3333333333333333,
              "#31688e"
             ],
             [
              0.4444444444444444,
              "#26828e"
             ],
             [
              0.5555555555555556,
              "#1f9e89"
             ],
             [
              0.6666666666666666,
              "#35b779"
             ],
             [
              0.7777777777777778,
              "#6ece58"
             ],
             [
              0.8888888888888888,
              "#b5de2b"
             ],
             [
              1,
              "#fde725"
             ]
            ],
            "type": "contour"
           }
          ],
          "contourcarpet": [
           {
            "colorbar": {
             "outlinewidth": 1,
             "tickcolor": "rgb(36,36,36)",
             "ticks": "outside"
            },
            "type": "contourcarpet"
           }
          ],
          "heatmap": [
           {
            "colorbar": {
             "outlinewidth": 1,
             "tickcolor": "rgb(36,36,36)",
             "ticks": "outside"
            },
            "colorscale": [
             [
              0,
              "#440154"
             ],
             [
              0.1111111111111111,
              "#482878"
             ],
             [
              0.2222222222222222,
              "#3e4989"
             ],
             [
              0.3333333333333333,
              "#31688e"
             ],
             [
              0.4444444444444444,
              "#26828e"
             ],
             [
              0.5555555555555556,
              "#1f9e89"
             ],
             [
              0.6666666666666666,
              "#35b779"
             ],
             [
              0.7777777777777778,
              "#6ece58"
             ],
             [
              0.8888888888888888,
              "#b5de2b"
             ],
             [
              1,
              "#fde725"
             ]
            ],
            "type": "heatmap"
           }
          ],
          "heatmapgl": [
           {
            "colorbar": {
             "outlinewidth": 1,
             "tickcolor": "rgb(36,36,36)",
             "ticks": "outside"
            },
            "colorscale": [
             [
              0,
              "#440154"
             ],
             [
              0.1111111111111111,
              "#482878"
             ],
             [
              0.2222222222222222,
              "#3e4989"
             ],
             [
              0.3333333333333333,
              "#31688e"
             ],
             [
              0.4444444444444444,
              "#26828e"
             ],
             [
              0.5555555555555556,
              "#1f9e89"
             ],
             [
              0.6666666666666666,
              "#35b779"
             ],
             [
              0.7777777777777778,
              "#6ece58"
             ],
             [
              0.8888888888888888,
              "#b5de2b"
             ],
             [
              1,
              "#fde725"
             ]
            ],
            "type": "heatmapgl"
           }
          ],
          "histogram": [
           {
            "marker": {
             "line": {
              "color": "white",
              "width": 0.6
             }
            },
            "type": "histogram"
           }
          ],
          "histogram2d": [
           {
            "colorbar": {
             "outlinewidth": 1,
             "tickcolor": "rgb(36,36,36)",
             "ticks": "outside"
            },
            "colorscale": [
             [
              0,
              "#440154"
             ],
             [
              0.1111111111111111,
              "#482878"
             ],
             [
              0.2222222222222222,
              "#3e4989"
             ],
             [
              0.3333333333333333,
              "#31688e"
             ],
             [
              0.4444444444444444,
              "#26828e"
             ],
             [
              0.5555555555555556,
              "#1f9e89"
             ],
             [
              0.6666666666666666,
              "#35b779"
             ],
             [
              0.7777777777777778,
              "#6ece58"
             ],
             [
              0.8888888888888888,
              "#b5de2b"
             ],
             [
              1,
              "#fde725"
             ]
            ],
            "type": "histogram2d"
           }
          ],
          "histogram2dcontour": [
           {
            "colorbar": {
             "outlinewidth": 1,
             "tickcolor": "rgb(36,36,36)",
             "ticks": "outside"
            },
            "colorscale": [
             [
              0,
              "#440154"
             ],
             [
              0.1111111111111111,
              "#482878"
             ],
             [
              0.2222222222222222,
              "#3e4989"
             ],
             [
              0.3333333333333333,
              "#31688e"
             ],
             [
              0.4444444444444444,
              "#26828e"
             ],
             [
              0.5555555555555556,
              "#1f9e89"
             ],
             [
              0.6666666666666666,
              "#35b779"
             ],
             [
              0.7777777777777778,
              "#6ece58"
             ],
             [
              0.8888888888888888,
              "#b5de2b"
             ],
             [
              1,
              "#fde725"
             ]
            ],
            "type": "histogram2dcontour"
           }
          ],
          "mesh3d": [
           {
            "colorbar": {
             "outlinewidth": 1,
             "tickcolor": "rgb(36,36,36)",
             "ticks": "outside"
            },
            "type": "mesh3d"
           }
          ],
          "parcoords": [
           {
            "line": {
             "colorbar": {
              "outlinewidth": 1,
              "tickcolor": "rgb(36,36,36)",
              "ticks": "outside"
             }
            },
            "type": "parcoords"
           }
          ],
          "pie": [
           {
            "automargin": true,
            "type": "pie"
           }
          ],
          "scatter": [
           {
            "fillpattern": {
             "fillmode": "overlay",
             "size": 10,
             "solidity": 0.2
            },
            "type": "scatter"
           }
          ],
          "scatter3d": [
           {
            "line": {
             "colorbar": {
              "outlinewidth": 1,
              "tickcolor": "rgb(36,36,36)",
              "ticks": "outside"
             }
            },
            "marker": {
             "colorbar": {
              "outlinewidth": 1,
              "tickcolor": "rgb(36,36,36)",
              "ticks": "outside"
             }
            },
            "type": "scatter3d"
           }
          ],
          "scattercarpet": [
           {
            "marker": {
             "colorbar": {
              "outlinewidth": 1,
              "tickcolor": "rgb(36,36,36)",
              "ticks": "outside"
             }
            },
            "type": "scattercarpet"
           }
          ],
          "scattergeo": [
           {
            "marker": {
             "colorbar": {
              "outlinewidth": 1,
              "tickcolor": "rgb(36,36,36)",
              "ticks": "outside"
             }
            },
            "type": "scattergeo"
           }
          ],
          "scattergl": [
           {
            "marker": {
             "colorbar": {
              "outlinewidth": 1,
              "tickcolor": "rgb(36,36,36)",
              "ticks": "outside"
             }
            },
            "type": "scattergl"
           }
          ],
          "scattermapbox": [
           {
            "marker": {
             "colorbar": {
              "outlinewidth": 1,
              "tickcolor": "rgb(36,36,36)",
              "ticks": "outside"
             }
            },
            "type": "scattermapbox"
           }
          ],
          "scatterpolar": [
           {
            "marker": {
             "colorbar": {
              "outlinewidth": 1,
              "tickcolor": "rgb(36,36,36)",
              "ticks": "outside"
             }
            },
            "type": "scatterpolar"
           }
          ],
          "scatterpolargl": [
           {
            "marker": {
             "colorbar": {
              "outlinewidth": 1,
              "tickcolor": "rgb(36,36,36)",
              "ticks": "outside"
             }
            },
            "type": "scatterpolargl"
           }
          ],
          "scatterternary": [
           {
            "marker": {
             "colorbar": {
              "outlinewidth": 1,
              "tickcolor": "rgb(36,36,36)",
              "ticks": "outside"
             }
            },
            "type": "scatterternary"
           }
          ],
          "surface": [
           {
            "colorbar": {
             "outlinewidth": 1,
             "tickcolor": "rgb(36,36,36)",
             "ticks": "outside"
            },
            "colorscale": [
             [
              0,
              "#440154"
             ],
             [
              0.1111111111111111,
              "#482878"
             ],
             [
              0.2222222222222222,
              "#3e4989"
             ],
             [
              0.3333333333333333,
              "#31688e"
             ],
             [
              0.4444444444444444,
              "#26828e"
             ],
             [
              0.5555555555555556,
              "#1f9e89"
             ],
             [
              0.6666666666666666,
              "#35b779"
             ],
             [
              0.7777777777777778,
              "#6ece58"
             ],
             [
              0.8888888888888888,
              "#b5de2b"
             ],
             [
              1,
              "#fde725"
             ]
            ],
            "type": "surface"
           }
          ],
          "table": [
           {
            "cells": {
             "fill": {
              "color": "rgb(237,237,237)"
             },
             "line": {
              "color": "white"
             }
            },
            "header": {
             "fill": {
              "color": "rgb(217,217,217)"
             },
             "line": {
              "color": "white"
             }
            },
            "type": "table"
           }
          ]
         },
         "layout": {
          "annotationdefaults": {
           "arrowhead": 0,
           "arrowwidth": 1
          },
          "autotypenumbers": "strict",
          "coloraxis": {
           "colorbar": {
            "outlinewidth": 1,
            "tickcolor": "rgb(36,36,36)",
            "ticks": "outside"
           }
          },
          "colorscale": {
           "diverging": [
            [
             0,
             "rgb(103,0,31)"
            ],
            [
             0.1,
             "rgb(178,24,43)"
            ],
            [
             0.2,
             "rgb(214,96,77)"
            ],
            [
             0.3,
             "rgb(244,165,130)"
            ],
            [
             0.4,
             "rgb(253,219,199)"
            ],
            [
             0.5,
             "rgb(247,247,247)"
            ],
            [
             0.6,
             "rgb(209,229,240)"
            ],
            [
             0.7,
             "rgb(146,197,222)"
            ],
            [
             0.8,
             "rgb(67,147,195)"
            ],
            [
             0.9,
             "rgb(33,102,172)"
            ],
            [
             1,
             "rgb(5,48,97)"
            ]
           ],
           "sequential": [
            [
             0,
             "#440154"
            ],
            [
             0.1111111111111111,
             "#482878"
            ],
            [
             0.2222222222222222,
             "#3e4989"
            ],
            [
             0.3333333333333333,
             "#31688e"
            ],
            [
             0.4444444444444444,
             "#26828e"
            ],
            [
             0.5555555555555556,
             "#1f9e89"
            ],
            [
             0.6666666666666666,
             "#35b779"
            ],
            [
             0.7777777777777778,
             "#6ece58"
            ],
            [
             0.8888888888888888,
             "#b5de2b"
            ],
            [
             1,
             "#fde725"
            ]
           ],
           "sequentialminus": [
            [
             0,
             "#440154"
            ],
            [
             0.1111111111111111,
             "#482878"
            ],
            [
             0.2222222222222222,
             "#3e4989"
            ],
            [
             0.3333333333333333,
             "#31688e"
            ],
            [
             0.4444444444444444,
             "#26828e"
            ],
            [
             0.5555555555555556,
             "#1f9e89"
            ],
            [
             0.6666666666666666,
             "#35b779"
            ],
            [
             0.7777777777777778,
             "#6ece58"
            ],
            [
             0.8888888888888888,
             "#b5de2b"
            ],
            [
             1,
             "#fde725"
            ]
           ]
          },
          "colorway": [
           "#1F77B4",
           "#FF7F0E",
           "#2CA02C",
           "#D62728",
           "#9467BD",
           "#8C564B",
           "#E377C2",
           "#7F7F7F",
           "#BCBD22",
           "#17BECF"
          ],
          "font": {
           "color": "rgb(36,36,36)"
          },
          "geo": {
           "bgcolor": "white",
           "lakecolor": "white",
           "landcolor": "white",
           "showlakes": true,
           "showland": true,
           "subunitcolor": "white"
          },
          "hoverlabel": {
           "align": "left"
          },
          "hovermode": "closest",
          "mapbox": {
           "style": "light"
          },
          "paper_bgcolor": "white",
          "plot_bgcolor": "white",
          "polar": {
           "angularaxis": {
            "gridcolor": "rgb(232,232,232)",
            "linecolor": "rgb(36,36,36)",
            "showgrid": false,
            "showline": true,
            "ticks": "outside"
           },
           "bgcolor": "white",
           "radialaxis": {
            "gridcolor": "rgb(232,232,232)",
            "linecolor": "rgb(36,36,36)",
            "showgrid": false,
            "showline": true,
            "ticks": "outside"
           }
          },
          "scene": {
           "xaxis": {
            "backgroundcolor": "white",
            "gridcolor": "rgb(232,232,232)",
            "gridwidth": 2,
            "linecolor": "rgb(36,36,36)",
            "showbackground": true,
            "showgrid": false,
            "showline": true,
            "ticks": "outside",
            "zeroline": false,
            "zerolinecolor": "rgb(36,36,36)"
           },
           "yaxis": {
            "backgroundcolor": "white",
            "gridcolor": "rgb(232,232,232)",
            "gridwidth": 2,
            "linecolor": "rgb(36,36,36)",
            "showbackground": true,
            "showgrid": false,
            "showline": true,
            "ticks": "outside",
            "zeroline": false,
            "zerolinecolor": "rgb(36,36,36)"
           },
           "zaxis": {
            "backgroundcolor": "white",
            "gridcolor": "rgb(232,232,232)",
            "gridwidth": 2,
            "linecolor": "rgb(36,36,36)",
            "showbackground": true,
            "showgrid": false,
            "showline": true,
            "ticks": "outside",
            "zeroline": false,
            "zerolinecolor": "rgb(36,36,36)"
           }
          },
          "shapedefaults": {
           "fillcolor": "black",
           "line": {
            "width": 0
           },
           "opacity": 0.3
          },
          "ternary": {
           "aaxis": {
            "gridcolor": "rgb(232,232,232)",
            "linecolor": "rgb(36,36,36)",
            "showgrid": false,
            "showline": true,
            "ticks": "outside"
           },
           "baxis": {
            "gridcolor": "rgb(232,232,232)",
            "linecolor": "rgb(36,36,36)",
            "showgrid": false,
            "showline": true,
            "ticks": "outside"
           },
           "bgcolor": "white",
           "caxis": {
            "gridcolor": "rgb(232,232,232)",
            "linecolor": "rgb(36,36,36)",
            "showgrid": false,
            "showline": true,
            "ticks": "outside"
           }
          },
          "title": {
           "x": 0.05
          },
          "xaxis": {
           "automargin": true,
           "gridcolor": "rgb(232,232,232)",
           "linecolor": "rgb(36,36,36)",
           "showgrid": false,
           "showline": true,
           "ticks": "outside",
           "title": {
            "standoff": 15
           },
           "zeroline": false,
           "zerolinecolor": "rgb(36,36,36)"
          },
          "yaxis": {
           "automargin": true,
           "gridcolor": "rgb(232,232,232)",
           "linecolor": "rgb(36,36,36)",
           "showgrid": false,
           "showline": true,
           "ticks": "outside",
           "title": {
            "standoff": 15
           },
           "zeroline": false,
           "zerolinecolor": "rgb(36,36,36)"
          }
         }
        },
        "title": {
         "font": {
          "color": "Black",
          "size": 22
         },
         "text": "<b>Topics over Time</b>",
         "x": 0.4,
         "xanchor": "center",
         "y": 0.95,
         "yanchor": "top"
        },
        "width": 1250,
        "xaxis": {
         "showgrid": true
        },
        "yaxis": {
         "showgrid": true,
         "title": {
          "text": "Frequency"
         }
        }
       }
      }
     },
     "metadata": {},
     "output_type": "display_data"
    }
   ],
   "source": [
    "# Calculate and visualize the topics over time\n",
    "topics_over_time = topic_model.topics_over_time(df['clean_text'], timestamps, global_tuning=True, evolution_tuning=True, nr_bins=20)\n",
    "\n",
    "# Visualize the topics over time\n",
    "topic_model.visualize_topics_over_time(topics_over_time, top_n_topics=10, custom_labels=True)"
   ]
  },
  {
   "cell_type": "code",
   "execution_count": 17,
   "metadata": {},
   "outputs": [
    {
     "data": {
      "application/vnd.plotly.v1+json": {
       "config": {
        "plotlyServerURL": "https://plot.ly"
       },
       "data": [
        {
         "marker": {
          "color": "#D55E00"
         },
         "orientation": "h",
         "type": "bar",
         "x": [
          0.3628964082056841,
          0.3638970386429415,
          0.3771671037399706,
          0.3843956118062905,
          0.4624516999421631
         ],
         "xaxis": "x",
         "y": [
          "system  ",
          "user  ",
          "device  ",
          "network  ",
          "service  "
         ],
         "yaxis": "y"
        },
        {
         "marker": {
          "color": "#0072B2"
         },
         "orientation": "h",
         "type": "bar",
         "x": [
          0.3460088563002109,
          0.3789666684500071,
          0.497652953725054,
          0.5199674364461898,
          0.5449605332855428
         ],
         "xaxis": "x2",
         "y": [
          "sensor  ",
          "system  ",
          "autonomous vehicle  ",
          "autonomous  ",
          "vehicle  "
         ],
         "yaxis": "y2"
        },
        {
         "marker": {
          "color": "#CC79A7"
         },
         "orientation": "h",
         "type": "bar",
         "x": [
          0.3222493319137934,
          0.33560046992694154,
          0.3548594134085736,
          0.37833680941675274,
          0.39945587845337366
         ],
         "xaxis": "x3",
         "y": [
          "based  ",
          "user  ",
          "method  ",
          "route  ",
          "location  "
         ],
         "yaxis": "y3"
        }
       ],
       "layout": {
        "annotations": [
         {
          "font": {
           "size": 16
          },
          "showarrow": false,
          "text": "Topic 0",
          "x": 0.0875,
          "xanchor": "center",
          "xref": "paper",
          "y": 1,
          "yanchor": "bottom",
          "yref": "paper"
         },
         {
          "font": {
           "size": 16
          },
          "showarrow": false,
          "text": "Topic 1",
          "x": 0.36250000000000004,
          "xanchor": "center",
          "xref": "paper",
          "y": 1,
          "yanchor": "bottom",
          "yref": "paper"
         },
         {
          "font": {
           "size": 16
          },
          "showarrow": false,
          "text": "Topic 2",
          "x": 0.6375000000000001,
          "xanchor": "center",
          "xref": "paper",
          "y": 1,
          "yanchor": "bottom",
          "yref": "paper"
         }
        ],
        "height": 325,
        "hoverlabel": {
         "bgcolor": "white",
         "font": {
          "family": "Rockwell",
          "size": 16
         }
        },
        "showlegend": false,
        "template": {
         "data": {
          "bar": [
           {
            "error_x": {
             "color": "#2a3f5f"
            },
            "error_y": {
             "color": "#2a3f5f"
            },
            "marker": {
             "line": {
              "color": "white",
              "width": 0.5
             },
             "pattern": {
              "fillmode": "overlay",
              "size": 10,
              "solidity": 0.2
             }
            },
            "type": "bar"
           }
          ],
          "barpolar": [
           {
            "marker": {
             "line": {
              "color": "white",
              "width": 0.5
             },
             "pattern": {
              "fillmode": "overlay",
              "size": 10,
              "solidity": 0.2
             }
            },
            "type": "barpolar"
           }
          ],
          "carpet": [
           {
            "aaxis": {
             "endlinecolor": "#2a3f5f",
             "gridcolor": "#C8D4E3",
             "linecolor": "#C8D4E3",
             "minorgridcolor": "#C8D4E3",
             "startlinecolor": "#2a3f5f"
            },
            "baxis": {
             "endlinecolor": "#2a3f5f",
             "gridcolor": "#C8D4E3",
             "linecolor": "#C8D4E3",
             "minorgridcolor": "#C8D4E3",
             "startlinecolor": "#2a3f5f"
            },
            "type": "carpet"
           }
          ],
          "choropleth": [
           {
            "colorbar": {
             "outlinewidth": 0,
             "ticks": ""
            },
            "type": "choropleth"
           }
          ],
          "contour": [
           {
            "colorbar": {
             "outlinewidth": 0,
             "ticks": ""
            },
            "colorscale": [
             [
              0,
              "#0d0887"
             ],
             [
              0.1111111111111111,
              "#46039f"
             ],
             [
              0.2222222222222222,
              "#7201a8"
             ],
             [
              0.3333333333333333,
              "#9c179e"
             ],
             [
              0.4444444444444444,
              "#bd3786"
             ],
             [
              0.5555555555555556,
              "#d8576b"
             ],
             [
              0.6666666666666666,
              "#ed7953"
             ],
             [
              0.7777777777777778,
              "#fb9f3a"
             ],
             [
              0.8888888888888888,
              "#fdca26"
             ],
             [
              1,
              "#f0f921"
             ]
            ],
            "type": "contour"
           }
          ],
          "contourcarpet": [
           {
            "colorbar": {
             "outlinewidth": 0,
             "ticks": ""
            },
            "type": "contourcarpet"
           }
          ],
          "heatmap": [
           {
            "colorbar": {
             "outlinewidth": 0,
             "ticks": ""
            },
            "colorscale": [
             [
              0,
              "#0d0887"
             ],
             [
              0.1111111111111111,
              "#46039f"
             ],
             [
              0.2222222222222222,
              "#7201a8"
             ],
             [
              0.3333333333333333,
              "#9c179e"
             ],
             [
              0.4444444444444444,
              "#bd3786"
             ],
             [
              0.5555555555555556,
              "#d8576b"
             ],
             [
              0.6666666666666666,
              "#ed7953"
             ],
             [
              0.7777777777777778,
              "#fb9f3a"
             ],
             [
              0.8888888888888888,
              "#fdca26"
             ],
             [
              1,
              "#f0f921"
             ]
            ],
            "type": "heatmap"
           }
          ],
          "heatmapgl": [
           {
            "colorbar": {
             "outlinewidth": 0,
             "ticks": ""
            },
            "colorscale": [
             [
              0,
              "#0d0887"
             ],
             [
              0.1111111111111111,
              "#46039f"
             ],
             [
              0.2222222222222222,
              "#7201a8"
             ],
             [
              0.3333333333333333,
              "#9c179e"
             ],
             [
              0.4444444444444444,
              "#bd3786"
             ],
             [
              0.5555555555555556,
              "#d8576b"
             ],
             [
              0.6666666666666666,
              "#ed7953"
             ],
             [
              0.7777777777777778,
              "#fb9f3a"
             ],
             [
              0.8888888888888888,
              "#fdca26"
             ],
             [
              1,
              "#f0f921"
             ]
            ],
            "type": "heatmapgl"
           }
          ],
          "histogram": [
           {
            "marker": {
             "pattern": {
              "fillmode": "overlay",
              "size": 10,
              "solidity": 0.2
             }
            },
            "type": "histogram"
           }
          ],
          "histogram2d": [
           {
            "colorbar": {
             "outlinewidth": 0,
             "ticks": ""
            },
            "colorscale": [
             [
              0,
              "#0d0887"
             ],
             [
              0.1111111111111111,
              "#46039f"
             ],
             [
              0.2222222222222222,
              "#7201a8"
             ],
             [
              0.3333333333333333,
              "#9c179e"
             ],
             [
              0.4444444444444444,
              "#bd3786"
             ],
             [
              0.5555555555555556,
              "#d8576b"
             ],
             [
              0.6666666666666666,
              "#ed7953"
             ],
             [
              0.7777777777777778,
              "#fb9f3a"
             ],
             [
              0.8888888888888888,
              "#fdca26"
             ],
             [
              1,
              "#f0f921"
             ]
            ],
            "type": "histogram2d"
           }
          ],
          "histogram2dcontour": [
           {
            "colorbar": {
             "outlinewidth": 0,
             "ticks": ""
            },
            "colorscale": [
             [
              0,
              "#0d0887"
             ],
             [
              0.1111111111111111,
              "#46039f"
             ],
             [
              0.2222222222222222,
              "#7201a8"
             ],
             [
              0.3333333333333333,
              "#9c179e"
             ],
             [
              0.4444444444444444,
              "#bd3786"
             ],
             [
              0.5555555555555556,
              "#d8576b"
             ],
             [
              0.6666666666666666,
              "#ed7953"
             ],
             [
              0.7777777777777778,
              "#fb9f3a"
             ],
             [
              0.8888888888888888,
              "#fdca26"
             ],
             [
              1,
              "#f0f921"
             ]
            ],
            "type": "histogram2dcontour"
           }
          ],
          "mesh3d": [
           {
            "colorbar": {
             "outlinewidth": 0,
             "ticks": ""
            },
            "type": "mesh3d"
           }
          ],
          "parcoords": [
           {
            "line": {
             "colorbar": {
              "outlinewidth": 0,
              "ticks": ""
             }
            },
            "type": "parcoords"
           }
          ],
          "pie": [
           {
            "automargin": true,
            "type": "pie"
           }
          ],
          "scatter": [
           {
            "fillpattern": {
             "fillmode": "overlay",
             "size": 10,
             "solidity": 0.2
            },
            "type": "scatter"
           }
          ],
          "scatter3d": [
           {
            "line": {
             "colorbar": {
              "outlinewidth": 0,
              "ticks": ""
             }
            },
            "marker": {
             "colorbar": {
              "outlinewidth": 0,
              "ticks": ""
             }
            },
            "type": "scatter3d"
           }
          ],
          "scattercarpet": [
           {
            "marker": {
             "colorbar": {
              "outlinewidth": 0,
              "ticks": ""
             }
            },
            "type": "scattercarpet"
           }
          ],
          "scattergeo": [
           {
            "marker": {
             "colorbar": {
              "outlinewidth": 0,
              "ticks": ""
             }
            },
            "type": "scattergeo"
           }
          ],
          "scattergl": [
           {
            "marker": {
             "colorbar": {
              "outlinewidth": 0,
              "ticks": ""
             }
            },
            "type": "scattergl"
           }
          ],
          "scattermapbox": [
           {
            "marker": {
             "colorbar": {
              "outlinewidth": 0,
              "ticks": ""
             }
            },
            "type": "scattermapbox"
           }
          ],
          "scatterpolar": [
           {
            "marker": {
             "colorbar": {
              "outlinewidth": 0,
              "ticks": ""
             }
            },
            "type": "scatterpolar"
           }
          ],
          "scatterpolargl": [
           {
            "marker": {
             "colorbar": {
              "outlinewidth": 0,
              "ticks": ""
             }
            },
            "type": "scatterpolargl"
           }
          ],
          "scatterternary": [
           {
            "marker": {
             "colorbar": {
              "outlinewidth": 0,
              "ticks": ""
             }
            },
            "type": "scatterternary"
           }
          ],
          "surface": [
           {
            "colorbar": {
             "outlinewidth": 0,
             "ticks": ""
            },
            "colorscale": [
             [
              0,
              "#0d0887"
             ],
             [
              0.1111111111111111,
              "#46039f"
             ],
             [
              0.2222222222222222,
              "#7201a8"
             ],
             [
              0.3333333333333333,
              "#9c179e"
             ],
             [
              0.4444444444444444,
              "#bd3786"
             ],
             [
              0.5555555555555556,
              "#d8576b"
             ],
             [
              0.6666666666666666,
              "#ed7953"
             ],
             [
              0.7777777777777778,
              "#fb9f3a"
             ],
             [
              0.8888888888888888,
              "#fdca26"
             ],
             [
              1,
              "#f0f921"
             ]
            ],
            "type": "surface"
           }
          ],
          "table": [
           {
            "cells": {
             "fill": {
              "color": "#EBF0F8"
             },
             "line": {
              "color": "white"
             }
            },
            "header": {
             "fill": {
              "color": "#C8D4E3"
             },
             "line": {
              "color": "white"
             }
            },
            "type": "table"
           }
          ]
         },
         "layout": {
          "annotationdefaults": {
           "arrowcolor": "#2a3f5f",
           "arrowhead": 0,
           "arrowwidth": 1
          },
          "autotypenumbers": "strict",
          "coloraxis": {
           "colorbar": {
            "outlinewidth": 0,
            "ticks": ""
           }
          },
          "colorscale": {
           "diverging": [
            [
             0,
             "#8e0152"
            ],
            [
             0.1,
             "#c51b7d"
            ],
            [
             0.2,
             "#de77ae"
            ],
            [
             0.3,
             "#f1b6da"
            ],
            [
             0.4,
             "#fde0ef"
            ],
            [
             0.5,
             "#f7f7f7"
            ],
            [
             0.6,
             "#e6f5d0"
            ],
            [
             0.7,
             "#b8e186"
            ],
            [
             0.8,
             "#7fbc41"
            ],
            [
             0.9,
             "#4d9221"
            ],
            [
             1,
             "#276419"
            ]
           ],
           "sequential": [
            [
             0,
             "#0d0887"
            ],
            [
             0.1111111111111111,
             "#46039f"
            ],
            [
             0.2222222222222222,
             "#7201a8"
            ],
            [
             0.3333333333333333,
             "#9c179e"
            ],
            [
             0.4444444444444444,
             "#bd3786"
            ],
            [
             0.5555555555555556,
             "#d8576b"
            ],
            [
             0.6666666666666666,
             "#ed7953"
            ],
            [
             0.7777777777777778,
             "#fb9f3a"
            ],
            [
             0.8888888888888888,
             "#fdca26"
            ],
            [
             1,
             "#f0f921"
            ]
           ],
           "sequentialminus": [
            [
             0,
             "#0d0887"
            ],
            [
             0.1111111111111111,
             "#46039f"
            ],
            [
             0.2222222222222222,
             "#7201a8"
            ],
            [
             0.3333333333333333,
             "#9c179e"
            ],
            [
             0.4444444444444444,
             "#bd3786"
            ],
            [
             0.5555555555555556,
             "#d8576b"
            ],
            [
             0.6666666666666666,
             "#ed7953"
            ],
            [
             0.7777777777777778,
             "#fb9f3a"
            ],
            [
             0.8888888888888888,
             "#fdca26"
            ],
            [
             1,
             "#f0f921"
            ]
           ]
          },
          "colorway": [
           "#636efa",
           "#EF553B",
           "#00cc96",
           "#ab63fa",
           "#FFA15A",
           "#19d3f3",
           "#FF6692",
           "#B6E880",
           "#FF97FF",
           "#FECB52"
          ],
          "font": {
           "color": "#2a3f5f"
          },
          "geo": {
           "bgcolor": "white",
           "lakecolor": "white",
           "landcolor": "white",
           "showlakes": true,
           "showland": true,
           "subunitcolor": "#C8D4E3"
          },
          "hoverlabel": {
           "align": "left"
          },
          "hovermode": "closest",
          "mapbox": {
           "style": "light"
          },
          "paper_bgcolor": "white",
          "plot_bgcolor": "white",
          "polar": {
           "angularaxis": {
            "gridcolor": "#EBF0F8",
            "linecolor": "#EBF0F8",
            "ticks": ""
           },
           "bgcolor": "white",
           "radialaxis": {
            "gridcolor": "#EBF0F8",
            "linecolor": "#EBF0F8",
            "ticks": ""
           }
          },
          "scene": {
           "xaxis": {
            "backgroundcolor": "white",
            "gridcolor": "#DFE8F3",
            "gridwidth": 2,
            "linecolor": "#EBF0F8",
            "showbackground": true,
            "ticks": "",
            "zerolinecolor": "#EBF0F8"
           },
           "yaxis": {
            "backgroundcolor": "white",
            "gridcolor": "#DFE8F3",
            "gridwidth": 2,
            "linecolor": "#EBF0F8",
            "showbackground": true,
            "ticks": "",
            "zerolinecolor": "#EBF0F8"
           },
           "zaxis": {
            "backgroundcolor": "white",
            "gridcolor": "#DFE8F3",
            "gridwidth": 2,
            "linecolor": "#EBF0F8",
            "showbackground": true,
            "ticks": "",
            "zerolinecolor": "#EBF0F8"
           }
          },
          "shapedefaults": {
           "line": {
            "color": "#2a3f5f"
           }
          },
          "ternary": {
           "aaxis": {
            "gridcolor": "#DFE8F3",
            "linecolor": "#A2B1C6",
            "ticks": ""
           },
           "baxis": {
            "gridcolor": "#DFE8F3",
            "linecolor": "#A2B1C6",
            "ticks": ""
           },
           "bgcolor": "white",
           "caxis": {
            "gridcolor": "#DFE8F3",
            "linecolor": "#A2B1C6",
            "ticks": ""
           }
          },
          "title": {
           "x": 0.05
          },
          "xaxis": {
           "automargin": true,
           "gridcolor": "#EBF0F8",
           "linecolor": "#EBF0F8",
           "ticks": "",
           "title": {
            "standoff": 15
           },
           "zerolinecolor": "#EBF0F8",
           "zerolinewidth": 2
          },
          "yaxis": {
           "automargin": true,
           "gridcolor": "#EBF0F8",
           "linecolor": "#EBF0F8",
           "ticks": "",
           "title": {
            "standoff": 15
           },
           "zerolinecolor": "#EBF0F8",
           "zerolinewidth": 2
          }
         }
        },
        "title": {
         "font": {
          "color": "Black",
          "size": 22
         },
         "text": "Topic Word Scores",
         "x": 0.5,
         "xanchor": "center",
         "yanchor": "top"
        },
        "width": 1000,
        "xaxis": {
         "anchor": "y",
         "domain": [
          0,
          0.175
         ],
         "showgrid": true
        },
        "xaxis2": {
         "anchor": "y2",
         "domain": [
          0.275,
          0.45
         ],
         "showgrid": true
        },
        "xaxis3": {
         "anchor": "y3",
         "domain": [
          0.55,
          0.7250000000000001
         ],
         "showgrid": true
        },
        "xaxis4": {
         "anchor": "y4",
         "domain": [
          0.825,
          1
         ],
         "showgrid": true
        },
        "yaxis": {
         "anchor": "x",
         "domain": [
          0,
          1
         ],
         "showgrid": true
        },
        "yaxis2": {
         "anchor": "x2",
         "domain": [
          0,
          1
         ],
         "showgrid": true
        },
        "yaxis3": {
         "anchor": "x3",
         "domain": [
          0,
          1
         ],
         "showgrid": true
        },
        "yaxis4": {
         "anchor": "x4",
         "domain": [
          0,
          1
         ],
         "showgrid": true
        }
       }
      }
     },
     "metadata": {},
     "output_type": "display_data"
    }
   ],
   "source": [
    "# New: Utilize additional visualization methods\n",
    "topic_model.visualize_barchart(top_n_topics=10)"
   ]
  },
  {
   "cell_type": "code",
   "execution_count": 18,
   "metadata": {},
   "outputs": [
    {
     "data": {
      "application/vnd.plotly.v1+json": {
       "config": {
        "plotlyServerURL": "https://plot.ly"
       },
       "data": [
        {
         "hovertext": "<b>Topic -1</b>:query_user_device_search_client_cl",
         "line": {
          "color": "black",
          "width": 1.5
         },
         "mode": "lines+lines",
         "name": "",
         "opacity": 0.1,
         "type": "scatter",
         "x": [
          1,
          2,
          3,
          4,
          5,
          6,
          7,
          8,
          9,
          10
         ],
         "y": [
          0.41070982561359776,
          0.3576798115738782,
          0.34508052836766495,
          0.34074667954048043,
          0.3386486056062408,
          0.3354723456665326,
          0.3281871161550735,
          0.3281155808338014,
          0.3242070466084076,
          0.30690663311837857
         ]
        },
        {
         "hovertext": "<b>Topic 0</b>:service_network_device_user_system_",
         "line": {
          "color": "black",
          "width": 1.5
         },
         "mode": "lines+lines",
         "name": "",
         "opacity": 0.1,
         "type": "scatter",
         "x": [
          1,
          2,
          3,
          4,
          5,
          6,
          7,
          8,
          9,
          10
         ],
         "y": [
          0.4624516999421631,
          0.3843956118062905,
          0.3771671037399706,
          0.3638970386429415,
          0.3628964082056841,
          0.35913200451158217,
          0.35323861324327277,
          0.33410644871504175,
          0.330288455977148,
          0.3081253766644659
         ]
        },
        {
         "hovertext": "<b>Topic 1</b>:vehicle_autonomous_autonomous vehic",
         "line": {
          "color": "black",
          "width": 1.5
         },
         "mode": "lines+lines",
         "name": "",
         "opacity": 0.1,
         "type": "scatter",
         "x": [
          1,
          2,
          3,
          4,
          5,
          6,
          7,
          8,
          9,
          10
         ],
         "y": [
          0.5449605332855428,
          0.5199674364461898,
          0.497652953725054,
          0.3789666684500071,
          0.3460088563002109,
          0.32140619806121007,
          0.3191185956272932,
          0.31780861064492205,
          0.31771245101324896,
          0.3092275632403785
         ]
        },
        {
         "hovertext": "<b>Topic 2</b>:location_route_method_user_based_tr",
         "line": {
          "color": "black",
          "width": 1.5
         },
         "mode": "lines+lines",
         "name": "",
         "opacity": 0.1,
         "type": "scatter",
         "x": [
          1,
          2,
          3,
          4,
          5,
          6,
          7,
          8,
          9,
          10
         ],
         "y": [
          0.39945587845337366,
          0.37833680941675274,
          0.3548594134085736,
          0.33560046992694154,
          0.3222493319137934,
          0.3197068073925641,
          0.3164389311472292,
          0.31090749391312533,
          0.30579717526408556,
          0.30324685413311353
         ]
        }
       ],
       "layout": {
        "height": 500,
        "hoverlabel": {
         "bgcolor": "white",
         "font": {
          "family": "Rockwell",
          "size": 16
         }
        },
        "showlegend": false,
        "template": {
         "data": {
          "bar": [
           {
            "error_x": {
             "color": "#2a3f5f"
            },
            "error_y": {
             "color": "#2a3f5f"
            },
            "marker": {
             "line": {
              "color": "white",
              "width": 0.5
             },
             "pattern": {
              "fillmode": "overlay",
              "size": 10,
              "solidity": 0.2
             }
            },
            "type": "bar"
           }
          ],
          "barpolar": [
           {
            "marker": {
             "line": {
              "color": "white",
              "width": 0.5
             },
             "pattern": {
              "fillmode": "overlay",
              "size": 10,
              "solidity": 0.2
             }
            },
            "type": "barpolar"
           }
          ],
          "carpet": [
           {
            "aaxis": {
             "endlinecolor": "#2a3f5f",
             "gridcolor": "#C8D4E3",
             "linecolor": "#C8D4E3",
             "minorgridcolor": "#C8D4E3",
             "startlinecolor": "#2a3f5f"
            },
            "baxis": {
             "endlinecolor": "#2a3f5f",
             "gridcolor": "#C8D4E3",
             "linecolor": "#C8D4E3",
             "minorgridcolor": "#C8D4E3",
             "startlinecolor": "#2a3f5f"
            },
            "type": "carpet"
           }
          ],
          "choropleth": [
           {
            "colorbar": {
             "outlinewidth": 0,
             "ticks": ""
            },
            "type": "choropleth"
           }
          ],
          "contour": [
           {
            "colorbar": {
             "outlinewidth": 0,
             "ticks": ""
            },
            "colorscale": [
             [
              0,
              "#0d0887"
             ],
             [
              0.1111111111111111,
              "#46039f"
             ],
             [
              0.2222222222222222,
              "#7201a8"
             ],
             [
              0.3333333333333333,
              "#9c179e"
             ],
             [
              0.4444444444444444,
              "#bd3786"
             ],
             [
              0.5555555555555556,
              "#d8576b"
             ],
             [
              0.6666666666666666,
              "#ed7953"
             ],
             [
              0.7777777777777778,
              "#fb9f3a"
             ],
             [
              0.8888888888888888,
              "#fdca26"
             ],
             [
              1,
              "#f0f921"
             ]
            ],
            "type": "contour"
           }
          ],
          "contourcarpet": [
           {
            "colorbar": {
             "outlinewidth": 0,
             "ticks": ""
            },
            "type": "contourcarpet"
           }
          ],
          "heatmap": [
           {
            "colorbar": {
             "outlinewidth": 0,
             "ticks": ""
            },
            "colorscale": [
             [
              0,
              "#0d0887"
             ],
             [
              0.1111111111111111,
              "#46039f"
             ],
             [
              0.2222222222222222,
              "#7201a8"
             ],
             [
              0.3333333333333333,
              "#9c179e"
             ],
             [
              0.4444444444444444,
              "#bd3786"
             ],
             [
              0.5555555555555556,
              "#d8576b"
             ],
             [
              0.6666666666666666,
              "#ed7953"
             ],
             [
              0.7777777777777778,
              "#fb9f3a"
             ],
             [
              0.8888888888888888,
              "#fdca26"
             ],
             [
              1,
              "#f0f921"
             ]
            ],
            "type": "heatmap"
           }
          ],
          "heatmapgl": [
           {
            "colorbar": {
             "outlinewidth": 0,
             "ticks": ""
            },
            "colorscale": [
             [
              0,
              "#0d0887"
             ],
             [
              0.1111111111111111,
              "#46039f"
             ],
             [
              0.2222222222222222,
              "#7201a8"
             ],
             [
              0.3333333333333333,
              "#9c179e"
             ],
             [
              0.4444444444444444,
              "#bd3786"
             ],
             [
              0.5555555555555556,
              "#d8576b"
             ],
             [
              0.6666666666666666,
              "#ed7953"
             ],
             [
              0.7777777777777778,
              "#fb9f3a"
             ],
             [
              0.8888888888888888,
              "#fdca26"
             ],
             [
              1,
              "#f0f921"
             ]
            ],
            "type": "heatmapgl"
           }
          ],
          "histogram": [
           {
            "marker": {
             "pattern": {
              "fillmode": "overlay",
              "size": 10,
              "solidity": 0.2
             }
            },
            "type": "histogram"
           }
          ],
          "histogram2d": [
           {
            "colorbar": {
             "outlinewidth": 0,
             "ticks": ""
            },
            "colorscale": [
             [
              0,
              "#0d0887"
             ],
             [
              0.1111111111111111,
              "#46039f"
             ],
             [
              0.2222222222222222,
              "#7201a8"
             ],
             [
              0.3333333333333333,
              "#9c179e"
             ],
             [
              0.4444444444444444,
              "#bd3786"
             ],
             [
              0.5555555555555556,
              "#d8576b"
             ],
             [
              0.6666666666666666,
              "#ed7953"
             ],
             [
              0.7777777777777778,
              "#fb9f3a"
             ],
             [
              0.8888888888888888,
              "#fdca26"
             ],
             [
              1,
              "#f0f921"
             ]
            ],
            "type": "histogram2d"
           }
          ],
          "histogram2dcontour": [
           {
            "colorbar": {
             "outlinewidth": 0,
             "ticks": ""
            },
            "colorscale": [
             [
              0,
              "#0d0887"
             ],
             [
              0.1111111111111111,
              "#46039f"
             ],
             [
              0.2222222222222222,
              "#7201a8"
             ],
             [
              0.3333333333333333,
              "#9c179e"
             ],
             [
              0.4444444444444444,
              "#bd3786"
             ],
             [
              0.5555555555555556,
              "#d8576b"
             ],
             [
              0.6666666666666666,
              "#ed7953"
             ],
             [
              0.7777777777777778,
              "#fb9f3a"
             ],
             [
              0.8888888888888888,
              "#fdca26"
             ],
             [
              1,
              "#f0f921"
             ]
            ],
            "type": "histogram2dcontour"
           }
          ],
          "mesh3d": [
           {
            "colorbar": {
             "outlinewidth": 0,
             "ticks": ""
            },
            "type": "mesh3d"
           }
          ],
          "parcoords": [
           {
            "line": {
             "colorbar": {
              "outlinewidth": 0,
              "ticks": ""
             }
            },
            "type": "parcoords"
           }
          ],
          "pie": [
           {
            "automargin": true,
            "type": "pie"
           }
          ],
          "scatter": [
           {
            "fillpattern": {
             "fillmode": "overlay",
             "size": 10,
             "solidity": 0.2
            },
            "type": "scatter"
           }
          ],
          "scatter3d": [
           {
            "line": {
             "colorbar": {
              "outlinewidth": 0,
              "ticks": ""
             }
            },
            "marker": {
             "colorbar": {
              "outlinewidth": 0,
              "ticks": ""
             }
            },
            "type": "scatter3d"
           }
          ],
          "scattercarpet": [
           {
            "marker": {
             "colorbar": {
              "outlinewidth": 0,
              "ticks": ""
             }
            },
            "type": "scattercarpet"
           }
          ],
          "scattergeo": [
           {
            "marker": {
             "colorbar": {
              "outlinewidth": 0,
              "ticks": ""
             }
            },
            "type": "scattergeo"
           }
          ],
          "scattergl": [
           {
            "marker": {
             "colorbar": {
              "outlinewidth": 0,
              "ticks": ""
             }
            },
            "type": "scattergl"
           }
          ],
          "scattermapbox": [
           {
            "marker": {
             "colorbar": {
              "outlinewidth": 0,
              "ticks": ""
             }
            },
            "type": "scattermapbox"
           }
          ],
          "scatterpolar": [
           {
            "marker": {
             "colorbar": {
              "outlinewidth": 0,
              "ticks": ""
             }
            },
            "type": "scatterpolar"
           }
          ],
          "scatterpolargl": [
           {
            "marker": {
             "colorbar": {
              "outlinewidth": 0,
              "ticks": ""
             }
            },
            "type": "scatterpolargl"
           }
          ],
          "scatterternary": [
           {
            "marker": {
             "colorbar": {
              "outlinewidth": 0,
              "ticks": ""
             }
            },
            "type": "scatterternary"
           }
          ],
          "surface": [
           {
            "colorbar": {
             "outlinewidth": 0,
             "ticks": ""
            },
            "colorscale": [
             [
              0,
              "#0d0887"
             ],
             [
              0.1111111111111111,
              "#46039f"
             ],
             [
              0.2222222222222222,
              "#7201a8"
             ],
             [
              0.3333333333333333,
              "#9c179e"
             ],
             [
              0.4444444444444444,
              "#bd3786"
             ],
             [
              0.5555555555555556,
              "#d8576b"
             ],
             [
              0.6666666666666666,
              "#ed7953"
             ],
             [
              0.7777777777777778,
              "#fb9f3a"
             ],
             [
              0.8888888888888888,
              "#fdca26"
             ],
             [
              1,
              "#f0f921"
             ]
            ],
            "type": "surface"
           }
          ],
          "table": [
           {
            "cells": {
             "fill": {
              "color": "#EBF0F8"
             },
             "line": {
              "color": "white"
             }
            },
            "header": {
             "fill": {
              "color": "#C8D4E3"
             },
             "line": {
              "color": "white"
             }
            },
            "type": "table"
           }
          ]
         },
         "layout": {
          "annotationdefaults": {
           "arrowcolor": "#2a3f5f",
           "arrowhead": 0,
           "arrowwidth": 1
          },
          "autotypenumbers": "strict",
          "coloraxis": {
           "colorbar": {
            "outlinewidth": 0,
            "ticks": ""
           }
          },
          "colorscale": {
           "diverging": [
            [
             0,
             "#8e0152"
            ],
            [
             0.1,
             "#c51b7d"
            ],
            [
             0.2,
             "#de77ae"
            ],
            [
             0.3,
             "#f1b6da"
            ],
            [
             0.4,
             "#fde0ef"
            ],
            [
             0.5,
             "#f7f7f7"
            ],
            [
             0.6,
             "#e6f5d0"
            ],
            [
             0.7,
             "#b8e186"
            ],
            [
             0.8,
             "#7fbc41"
            ],
            [
             0.9,
             "#4d9221"
            ],
            [
             1,
             "#276419"
            ]
           ],
           "sequential": [
            [
             0,
             "#0d0887"
            ],
            [
             0.1111111111111111,
             "#46039f"
            ],
            [
             0.2222222222222222,
             "#7201a8"
            ],
            [
             0.3333333333333333,
             "#9c179e"
            ],
            [
             0.4444444444444444,
             "#bd3786"
            ],
            [
             0.5555555555555556,
             "#d8576b"
            ],
            [
             0.6666666666666666,
             "#ed7953"
            ],
            [
             0.7777777777777778,
             "#fb9f3a"
            ],
            [
             0.8888888888888888,
             "#fdca26"
            ],
            [
             1,
             "#f0f921"
            ]
           ],
           "sequentialminus": [
            [
             0,
             "#0d0887"
            ],
            [
             0.1111111111111111,
             "#46039f"
            ],
            [
             0.2222222222222222,
             "#7201a8"
            ],
            [
             0.3333333333333333,
             "#9c179e"
            ],
            [
             0.4444444444444444,
             "#bd3786"
            ],
            [
             0.5555555555555556,
             "#d8576b"
            ],
            [
             0.6666666666666666,
             "#ed7953"
            ],
            [
             0.7777777777777778,
             "#fb9f3a"
            ],
            [
             0.8888888888888888,
             "#fdca26"
            ],
            [
             1,
             "#f0f921"
            ]
           ]
          },
          "colorway": [
           "#636efa",
           "#EF553B",
           "#00cc96",
           "#ab63fa",
           "#FFA15A",
           "#19d3f3",
           "#FF6692",
           "#B6E880",
           "#FF97FF",
           "#FECB52"
          ],
          "font": {
           "color": "#2a3f5f"
          },
          "geo": {
           "bgcolor": "white",
           "lakecolor": "white",
           "landcolor": "white",
           "showlakes": true,
           "showland": true,
           "subunitcolor": "#C8D4E3"
          },
          "hoverlabel": {
           "align": "left"
          },
          "hovermode": "closest",
          "mapbox": {
           "style": "light"
          },
          "paper_bgcolor": "white",
          "plot_bgcolor": "white",
          "polar": {
           "angularaxis": {
            "gridcolor": "#EBF0F8",
            "linecolor": "#EBF0F8",
            "ticks": ""
           },
           "bgcolor": "white",
           "radialaxis": {
            "gridcolor": "#EBF0F8",
            "linecolor": "#EBF0F8",
            "ticks": ""
           }
          },
          "scene": {
           "xaxis": {
            "backgroundcolor": "white",
            "gridcolor": "#DFE8F3",
            "gridwidth": 2,
            "linecolor": "#EBF0F8",
            "showbackground": true,
            "ticks": "",
            "zerolinecolor": "#EBF0F8"
           },
           "yaxis": {
            "backgroundcolor": "white",
            "gridcolor": "#DFE8F3",
            "gridwidth": 2,
            "linecolor": "#EBF0F8",
            "showbackground": true,
            "ticks": "",
            "zerolinecolor": "#EBF0F8"
           },
           "zaxis": {
            "backgroundcolor": "white",
            "gridcolor": "#DFE8F3",
            "gridwidth": 2,
            "linecolor": "#EBF0F8",
            "showbackground": true,
            "ticks": "",
            "zerolinecolor": "#EBF0F8"
           }
          },
          "shapedefaults": {
           "line": {
            "color": "#2a3f5f"
           }
          },
          "ternary": {
           "aaxis": {
            "gridcolor": "#DFE8F3",
            "linecolor": "#A2B1C6",
            "ticks": ""
           },
           "baxis": {
            "gridcolor": "#DFE8F3",
            "linecolor": "#A2B1C6",
            "ticks": ""
           },
           "bgcolor": "white",
           "caxis": {
            "gridcolor": "#DFE8F3",
            "linecolor": "#A2B1C6",
            "ticks": ""
           }
          },
          "title": {
           "x": 0.05
          },
          "xaxis": {
           "automargin": true,
           "gridcolor": "#EBF0F8",
           "linecolor": "#EBF0F8",
           "ticks": "",
           "title": {
            "standoff": 15
           },
           "zerolinecolor": "#EBF0F8",
           "zerolinewidth": 2
          },
          "yaxis": {
           "automargin": true,
           "gridcolor": "#EBF0F8",
           "linecolor": "#EBF0F8",
           "ticks": "",
           "title": {
            "standoff": 15
           },
           "zerolinecolor": "#EBF0F8",
           "zerolinewidth": 2
          }
         }
        },
        "title": {
         "font": {
          "color": "Black",
          "size": 22
         },
         "text": "<b>Term score decline per Topic</b>",
         "x": 0.5,
         "xanchor": "center",
         "y": 0.9,
         "yanchor": "top"
        },
        "width": 800,
        "xaxis": {
         "dtick": 2,
         "range": [
          0,
          10
         ],
         "tick0": 1,
         "title": {
          "text": "Term Rank"
         }
        },
        "yaxis": {
         "title": {
          "text": "c-TF-IDF score"
         }
        }
       }
      }
     },
     "metadata": {},
     "output_type": "display_data"
    }
   ],
   "source": [
    "topic_model.visualize_term_rank()"
   ]
  },
  {
   "cell_type": "code",
   "execution_count": 19,
   "metadata": {},
   "outputs": [
    {
     "data": {
      "application/vnd.plotly.v1+json": {
       "config": {
        "plotlyServerURL": "https://plot.ly"
       },
       "data": [
        {
         "coloraxis": "coloraxis",
         "hovertemplate": "x: %{x}<br>y: %{y}<br>Similarity Score: %{z}<extra></extra>",
         "name": "0",
         "type": "heatmap",
         "x": [
          "0_service_network_device",
          "1_vehicle_autonomous_autono...",
          "2_location_route_method"
         ],
         "xaxis": "x",
         "y": [
          "0_service_network_device",
          "1_vehicle_autonomous_autono...",
          "2_location_route_method"
         ],
         "yaxis": "y",
         "z": [
          [
           1.0000000000000007,
           0.8925994489131184,
           0.917647014369765
          ],
          [
           0.8925994489131184,
           1.0000000000000013,
           0.8850053608186866
          ],
          [
           0.917647014369765,
           0.8850053608186866,
           1.0000000000000013
          ]
         ]
        }
       ],
       "layout": {
        "coloraxis": {
         "colorbar": {
          "title": {
           "text": "Similarity Score"
          }
         },
         "colorscale": [
          [
           0,
           "rgb(247,252,240)"
          ],
          [
           0.125,
           "rgb(224,243,219)"
          ],
          [
           0.25,
           "rgb(204,235,197)"
          ],
          [
           0.375,
           "rgb(168,221,181)"
          ],
          [
           0.5,
           "rgb(123,204,196)"
          ],
          [
           0.625,
           "rgb(78,179,211)"
          ],
          [
           0.75,
           "rgb(43,140,190)"
          ],
          [
           0.875,
           "rgb(8,104,172)"
          ],
          [
           1,
           "rgb(8,64,129)"
          ]
         ]
        },
        "height": 800,
        "hoverlabel": {
         "bgcolor": "white",
         "font": {
          "family": "Rockwell",
          "size": 16
         }
        },
        "legend": {
         "title": {
          "text": "Trend"
         }
        },
        "margin": {
         "t": 60
        },
        "showlegend": true,
        "template": {
         "data": {
          "bar": [
           {
            "error_x": {
             "color": "#2a3f5f"
            },
            "error_y": {
             "color": "#2a3f5f"
            },
            "marker": {
             "line": {
              "color": "#E5ECF6",
              "width": 0.5
             },
             "pattern": {
              "fillmode": "overlay",
              "size": 10,
              "solidity": 0.2
             }
            },
            "type": "bar"
           }
          ],
          "barpolar": [
           {
            "marker": {
             "line": {
              "color": "#E5ECF6",
              "width": 0.5
             },
             "pattern": {
              "fillmode": "overlay",
              "size": 10,
              "solidity": 0.2
             }
            },
            "type": "barpolar"
           }
          ],
          "carpet": [
           {
            "aaxis": {
             "endlinecolor": "#2a3f5f",
             "gridcolor": "white",
             "linecolor": "white",
             "minorgridcolor": "white",
             "startlinecolor": "#2a3f5f"
            },
            "baxis": {
             "endlinecolor": "#2a3f5f",
             "gridcolor": "white",
             "linecolor": "white",
             "minorgridcolor": "white",
             "startlinecolor": "#2a3f5f"
            },
            "type": "carpet"
           }
          ],
          "choropleth": [
           {
            "colorbar": {
             "outlinewidth": 0,
             "ticks": ""
            },
            "type": "choropleth"
           }
          ],
          "contour": [
           {
            "colorbar": {
             "outlinewidth": 0,
             "ticks": ""
            },
            "colorscale": [
             [
              0,
              "#0d0887"
             ],
             [
              0.1111111111111111,
              "#46039f"
             ],
             [
              0.2222222222222222,
              "#7201a8"
             ],
             [
              0.3333333333333333,
              "#9c179e"
             ],
             [
              0.4444444444444444,
              "#bd3786"
             ],
             [
              0.5555555555555556,
              "#d8576b"
             ],
             [
              0.6666666666666666,
              "#ed7953"
             ],
             [
              0.7777777777777778,
              "#fb9f3a"
             ],
             [
              0.8888888888888888,
              "#fdca26"
             ],
             [
              1,
              "#f0f921"
             ]
            ],
            "type": "contour"
           }
          ],
          "contourcarpet": [
           {
            "colorbar": {
             "outlinewidth": 0,
             "ticks": ""
            },
            "type": "contourcarpet"
           }
          ],
          "heatmap": [
           {
            "colorbar": {
             "outlinewidth": 0,
             "ticks": ""
            },
            "colorscale": [
             [
              0,
              "#0d0887"
             ],
             [
              0.1111111111111111,
              "#46039f"
             ],
             [
              0.2222222222222222,
              "#7201a8"
             ],
             [
              0.3333333333333333,
              "#9c179e"
             ],
             [
              0.4444444444444444,
              "#bd3786"
             ],
             [
              0.5555555555555556,
              "#d8576b"
             ],
             [
              0.6666666666666666,
              "#ed7953"
             ],
             [
              0.7777777777777778,
              "#fb9f3a"
             ],
             [
              0.8888888888888888,
              "#fdca26"
             ],
             [
              1,
              "#f0f921"
             ]
            ],
            "type": "heatmap"
           }
          ],
          "heatmapgl": [
           {
            "colorbar": {
             "outlinewidth": 0,
             "ticks": ""
            },
            "colorscale": [
             [
              0,
              "#0d0887"
             ],
             [
              0.1111111111111111,
              "#46039f"
             ],
             [
              0.2222222222222222,
              "#7201a8"
             ],
             [
              0.3333333333333333,
              "#9c179e"
             ],
             [
              0.4444444444444444,
              "#bd3786"
             ],
             [
              0.5555555555555556,
              "#d8576b"
             ],
             [
              0.6666666666666666,
              "#ed7953"
             ],
             [
              0.7777777777777778,
              "#fb9f3a"
             ],
             [
              0.8888888888888888,
              "#fdca26"
             ],
             [
              1,
              "#f0f921"
             ]
            ],
            "type": "heatmapgl"
           }
          ],
          "histogram": [
           {
            "marker": {
             "pattern": {
              "fillmode": "overlay",
              "size": 10,
              "solidity": 0.2
             }
            },
            "type": "histogram"
           }
          ],
          "histogram2d": [
           {
            "colorbar": {
             "outlinewidth": 0,
             "ticks": ""
            },
            "colorscale": [
             [
              0,
              "#0d0887"
             ],
             [
              0.1111111111111111,
              "#46039f"
             ],
             [
              0.2222222222222222,
              "#7201a8"
             ],
             [
              0.3333333333333333,
              "#9c179e"
             ],
             [
              0.4444444444444444,
              "#bd3786"
             ],
             [
              0.5555555555555556,
              "#d8576b"
             ],
             [
              0.6666666666666666,
              "#ed7953"
             ],
             [
              0.7777777777777778,
              "#fb9f3a"
             ],
             [
              0.8888888888888888,
              "#fdca26"
             ],
             [
              1,
              "#f0f921"
             ]
            ],
            "type": "histogram2d"
           }
          ],
          "histogram2dcontour": [
           {
            "colorbar": {
             "outlinewidth": 0,
             "ticks": ""
            },
            "colorscale": [
             [
              0,
              "#0d0887"
             ],
             [
              0.1111111111111111,
              "#46039f"
             ],
             [
              0.2222222222222222,
              "#7201a8"
             ],
             [
              0.3333333333333333,
              "#9c179e"
             ],
             [
              0.4444444444444444,
              "#bd3786"
             ],
             [
              0.5555555555555556,
              "#d8576b"
             ],
             [
              0.6666666666666666,
              "#ed7953"
             ],
             [
              0.7777777777777778,
              "#fb9f3a"
             ],
             [
              0.8888888888888888,
              "#fdca26"
             ],
             [
              1,
              "#f0f921"
             ]
            ],
            "type": "histogram2dcontour"
           }
          ],
          "mesh3d": [
           {
            "colorbar": {
             "outlinewidth": 0,
             "ticks": ""
            },
            "type": "mesh3d"
           }
          ],
          "parcoords": [
           {
            "line": {
             "colorbar": {
              "outlinewidth": 0,
              "ticks": ""
             }
            },
            "type": "parcoords"
           }
          ],
          "pie": [
           {
            "automargin": true,
            "type": "pie"
           }
          ],
          "scatter": [
           {
            "fillpattern": {
             "fillmode": "overlay",
             "size": 10,
             "solidity": 0.2
            },
            "type": "scatter"
           }
          ],
          "scatter3d": [
           {
            "line": {
             "colorbar": {
              "outlinewidth": 0,
              "ticks": ""
             }
            },
            "marker": {
             "colorbar": {
              "outlinewidth": 0,
              "ticks": ""
             }
            },
            "type": "scatter3d"
           }
          ],
          "scattercarpet": [
           {
            "marker": {
             "colorbar": {
              "outlinewidth": 0,
              "ticks": ""
             }
            },
            "type": "scattercarpet"
           }
          ],
          "scattergeo": [
           {
            "marker": {
             "colorbar": {
              "outlinewidth": 0,
              "ticks": ""
             }
            },
            "type": "scattergeo"
           }
          ],
          "scattergl": [
           {
            "marker": {
             "colorbar": {
              "outlinewidth": 0,
              "ticks": ""
             }
            },
            "type": "scattergl"
           }
          ],
          "scattermapbox": [
           {
            "marker": {
             "colorbar": {
              "outlinewidth": 0,
              "ticks": ""
             }
            },
            "type": "scattermapbox"
           }
          ],
          "scatterpolar": [
           {
            "marker": {
             "colorbar": {
              "outlinewidth": 0,
              "ticks": ""
             }
            },
            "type": "scatterpolar"
           }
          ],
          "scatterpolargl": [
           {
            "marker": {
             "colorbar": {
              "outlinewidth": 0,
              "ticks": ""
             }
            },
            "type": "scatterpolargl"
           }
          ],
          "scatterternary": [
           {
            "marker": {
             "colorbar": {
              "outlinewidth": 0,
              "ticks": ""
             }
            },
            "type": "scatterternary"
           }
          ],
          "surface": [
           {
            "colorbar": {
             "outlinewidth": 0,
             "ticks": ""
            },
            "colorscale": [
             [
              0,
              "#0d0887"
             ],
             [
              0.1111111111111111,
              "#46039f"
             ],
             [
              0.2222222222222222,
              "#7201a8"
             ],
             [
              0.3333333333333333,
              "#9c179e"
             ],
             [
              0.4444444444444444,
              "#bd3786"
             ],
             [
              0.5555555555555556,
              "#d8576b"
             ],
             [
              0.6666666666666666,
              "#ed7953"
             ],
             [
              0.7777777777777778,
              "#fb9f3a"
             ],
             [
              0.8888888888888888,
              "#fdca26"
             ],
             [
              1,
              "#f0f921"
             ]
            ],
            "type": "surface"
           }
          ],
          "table": [
           {
            "cells": {
             "fill": {
              "color": "#EBF0F8"
             },
             "line": {
              "color": "white"
             }
            },
            "header": {
             "fill": {
              "color": "#C8D4E3"
             },
             "line": {
              "color": "white"
             }
            },
            "type": "table"
           }
          ]
         },
         "layout": {
          "annotationdefaults": {
           "arrowcolor": "#2a3f5f",
           "arrowhead": 0,
           "arrowwidth": 1
          },
          "autotypenumbers": "strict",
          "coloraxis": {
           "colorbar": {
            "outlinewidth": 0,
            "ticks": ""
           }
          },
          "colorscale": {
           "diverging": [
            [
             0,
             "#8e0152"
            ],
            [
             0.1,
             "#c51b7d"
            ],
            [
             0.2,
             "#de77ae"
            ],
            [
             0.3,
             "#f1b6da"
            ],
            [
             0.4,
             "#fde0ef"
            ],
            [
             0.5,
             "#f7f7f7"
            ],
            [
             0.6,
             "#e6f5d0"
            ],
            [
             0.7,
             "#b8e186"
            ],
            [
             0.8,
             "#7fbc41"
            ],
            [
             0.9,
             "#4d9221"
            ],
            [
             1,
             "#276419"
            ]
           ],
           "sequential": [
            [
             0,
             "#0d0887"
            ],
            [
             0.1111111111111111,
             "#46039f"
            ],
            [
             0.2222222222222222,
             "#7201a8"
            ],
            [
             0.3333333333333333,
             "#9c179e"
            ],
            [
             0.4444444444444444,
             "#bd3786"
            ],
            [
             0.5555555555555556,
             "#d8576b"
            ],
            [
             0.6666666666666666,
             "#ed7953"
            ],
            [
             0.7777777777777778,
             "#fb9f3a"
            ],
            [
             0.8888888888888888,
             "#fdca26"
            ],
            [
             1,
             "#f0f921"
            ]
           ],
           "sequentialminus": [
            [
             0,
             "#0d0887"
            ],
            [
             0.1111111111111111,
             "#46039f"
            ],
            [
             0.2222222222222222,
             "#7201a8"
            ],
            [
             0.3333333333333333,
             "#9c179e"
            ],
            [
             0.4444444444444444,
             "#bd3786"
            ],
            [
             0.5555555555555556,
             "#d8576b"
            ],
            [
             0.6666666666666666,
             "#ed7953"
            ],
            [
             0.7777777777777778,
             "#fb9f3a"
            ],
            [
             0.8888888888888888,
             "#fdca26"
            ],
            [
             1,
             "#f0f921"
            ]
           ]
          },
          "colorway": [
           "#636efa",
           "#EF553B",
           "#00cc96",
           "#ab63fa",
           "#FFA15A",
           "#19d3f3",
           "#FF6692",
           "#B6E880",
           "#FF97FF",
           "#FECB52"
          ],
          "font": {
           "color": "#2a3f5f"
          },
          "geo": {
           "bgcolor": "white",
           "lakecolor": "white",
           "landcolor": "#E5ECF6",
           "showlakes": true,
           "showland": true,
           "subunitcolor": "white"
          },
          "hoverlabel": {
           "align": "left"
          },
          "hovermode": "closest",
          "mapbox": {
           "style": "light"
          },
          "paper_bgcolor": "white",
          "plot_bgcolor": "#E5ECF6",
          "polar": {
           "angularaxis": {
            "gridcolor": "white",
            "linecolor": "white",
            "ticks": ""
           },
           "bgcolor": "#E5ECF6",
           "radialaxis": {
            "gridcolor": "white",
            "linecolor": "white",
            "ticks": ""
           }
          },
          "scene": {
           "xaxis": {
            "backgroundcolor": "#E5ECF6",
            "gridcolor": "white",
            "gridwidth": 2,
            "linecolor": "white",
            "showbackground": true,
            "ticks": "",
            "zerolinecolor": "white"
           },
           "yaxis": {
            "backgroundcolor": "#E5ECF6",
            "gridcolor": "white",
            "gridwidth": 2,
            "linecolor": "white",
            "showbackground": true,
            "ticks": "",
            "zerolinecolor": "white"
           },
           "zaxis": {
            "backgroundcolor": "#E5ECF6",
            "gridcolor": "white",
            "gridwidth": 2,
            "linecolor": "white",
            "showbackground": true,
            "ticks": "",
            "zerolinecolor": "white"
           }
          },
          "shapedefaults": {
           "line": {
            "color": "#2a3f5f"
           }
          },
          "ternary": {
           "aaxis": {
            "gridcolor": "white",
            "linecolor": "white",
            "ticks": ""
           },
           "baxis": {
            "gridcolor": "white",
            "linecolor": "white",
            "ticks": ""
           },
           "bgcolor": "#E5ECF6",
           "caxis": {
            "gridcolor": "white",
            "linecolor": "white",
            "ticks": ""
           }
          },
          "title": {
           "x": 0.05
          },
          "xaxis": {
           "automargin": true,
           "gridcolor": "white",
           "linecolor": "white",
           "ticks": "",
           "title": {
            "standoff": 15
           },
           "zerolinecolor": "white",
           "zerolinewidth": 2
          },
          "yaxis": {
           "automargin": true,
           "gridcolor": "white",
           "linecolor": "white",
           "ticks": "",
           "title": {
            "standoff": 15
           },
           "zerolinecolor": "white",
           "zerolinewidth": 2
          }
         }
        },
        "title": {
         "font": {
          "color": "Black",
          "size": 22
         },
         "text": "<b>Similarity Matrix</b>",
         "x": 0.55,
         "xanchor": "center",
         "y": 0.95,
         "yanchor": "top"
        },
        "width": 800,
        "xaxis": {
         "anchor": "y",
         "constrain": "domain",
         "domain": [
          0,
          1
         ],
         "scaleanchor": "y"
        },
        "yaxis": {
         "anchor": "x",
         "autorange": "reversed",
         "constrain": "domain",
         "domain": [
          0,
          1
         ]
        }
       }
      }
     },
     "metadata": {},
     "output_type": "display_data"
    }
   ],
   "source": [
    "topic_model.visualize_heatmap(n_clusters=2, custom_labels=True)"
   ]
  },
  {
   "cell_type": "code",
   "execution_count": 20,
   "metadata": {},
   "outputs": [],
   "source": [
    "# Create a dictionary for renaming topics\n",
    "new_topic_names = {\n",
    "    0: \"Topic 1 - Digital Infrastructure\",\n",
    "    1: \"Topic 2 - Autonomous Vehicle\",\n",
    "    2: \"Topic 3 - Traffic Navigation\",\n",
    "}\n",
    "\n",
    "# Set the new topic labels\n",
    "topic_model.set_topic_labels(new_topic_names)"
   ]
  },
  {
   "cell_type": "code",
   "execution_count": 21,
   "metadata": {},
   "outputs": [],
   "source": [
    "# %% [code]\n",
    "# Convert the topics_over_time DataFrame to a CSV file and save it in the current working directory\n",
    "topics_over_time.to_csv(\"topics_over_time.csv\", index=False)"
   ]
  },
  {
   "cell_type": "code",
   "execution_count": 22,
   "metadata": {},
   "outputs": [
    {
     "data": {
      "text/html": [
       "<div>\n",
       "<style scoped>\n",
       "    .dataframe tbody tr th:only-of-type {\n",
       "        vertical-align: middle;\n",
       "    }\n",
       "\n",
       "    .dataframe tbody tr th {\n",
       "        vertical-align: top;\n",
       "    }\n",
       "\n",
       "    .dataframe thead th {\n",
       "        text-align: right;\n",
       "    }\n",
       "</style>\n",
       "<table border=\"1\" class=\"dataframe\">\n",
       "  <thead>\n",
       "    <tr style=\"text-align: right;\">\n",
       "      <th></th>\n",
       "      <th>Topic</th>\n",
       "      <th>Count</th>\n",
       "      <th>Name</th>\n",
       "      <th>CustomName</th>\n",
       "      <th>Representation</th>\n",
       "      <th>KeyBERT</th>\n",
       "      <th>MMR</th>\n",
       "      <th>POS</th>\n",
       "      <th>Representative_Docs</th>\n",
       "    </tr>\n",
       "  </thead>\n",
       "  <tbody>\n",
       "    <tr>\n",
       "      <th>0</th>\n",
       "      <td>-1</td>\n",
       "      <td>127</td>\n",
       "      <td>-1_query_user_device_search</td>\n",
       "      <td>-1_query_user_device_search</td>\n",
       "      <td>[query, user, device, search, client, client d...</td>\n",
       "      <td>[search engine, search query, document, electr...</td>\n",
       "      <td>[query, user, device, search, client, client d...</td>\n",
       "      <td>[query, user, device, search, client, data, sa...</td>\n",
       "      <td>[Generation of response to query by computer u...</td>\n",
       "    </tr>\n",
       "    <tr>\n",
       "      <th>1</th>\n",
       "      <td>0</td>\n",
       "      <td>276</td>\n",
       "      <td>0_service_network_device_user</td>\n",
       "      <td>Topic 1 - Digital Infrastructure</td>\n",
       "      <td>[service, network, device, user, system, trans...</td>\n",
       "      <td>[network system, network service, computing sy...</td>\n",
       "      <td>[service, network, device, user, system, trans...</td>\n",
       "      <td>[service, network, device, user, system, trans...</td>\n",
       "      <td>[Computer system for providing on-demand servi...</td>\n",
       "    </tr>\n",
       "    <tr>\n",
       "      <th>2</th>\n",
       "      <td>1</td>\n",
       "      <td>235</td>\n",
       "      <td>1_vehicle_autonomous_autonomous vehicle_system</td>\n",
       "      <td>Topic 2 - Autonomous Vehicle</td>\n",
       "      <td>[vehicle, autonomous, autonomous vehicle, syst...</td>\n",
       "      <td>[vehicle computing, autonomous vehicle, autono...</td>\n",
       "      <td>[vehicle, autonomous, autonomous vehicle, syst...</td>\n",
       "      <td>[vehicle, autonomous, autonomous vehicle, syst...</td>\n",
       "      <td>[Method for controlling autonomous vehicles to...</td>\n",
       "    </tr>\n",
       "    <tr>\n",
       "      <th>3</th>\n",
       "      <td>2</td>\n",
       "      <td>210</td>\n",
       "      <td>2_location_route_method_user</td>\n",
       "      <td>Topic 3 - Traffic Navigation</td>\n",
       "      <td>[location, route, method, user, based, trip, p...</td>\n",
       "      <td>[route guidance, routing, navigation, routes, ...</td>\n",
       "      <td>[location, route, method, user, based, trip, p...</td>\n",
       "      <td>[location, route, method, user, trip, point, m...</td>\n",
       "      <td>[Route providing method for navigation systems...</td>\n",
       "    </tr>\n",
       "  </tbody>\n",
       "</table>\n",
       "</div>"
      ],
      "text/plain": [
       "   Topic  Count                                            Name   \n",
       "0     -1    127                     -1_query_user_device_search  \\\n",
       "1      0    276                   0_service_network_device_user   \n",
       "2      1    235  1_vehicle_autonomous_autonomous vehicle_system   \n",
       "3      2    210                    2_location_route_method_user   \n",
       "\n",
       "                         CustomName   \n",
       "0       -1_query_user_device_search  \\\n",
       "1  Topic 1 - Digital Infrastructure   \n",
       "2      Topic 2 - Autonomous Vehicle   \n",
       "3      Topic 3 - Traffic Navigation   \n",
       "\n",
       "                                      Representation   \n",
       "0  [query, user, device, search, client, client d...  \\\n",
       "1  [service, network, device, user, system, trans...   \n",
       "2  [vehicle, autonomous, autonomous vehicle, syst...   \n",
       "3  [location, route, method, user, based, trip, p...   \n",
       "\n",
       "                                             KeyBERT   \n",
       "0  [search engine, search query, document, electr...  \\\n",
       "1  [network system, network service, computing sy...   \n",
       "2  [vehicle computing, autonomous vehicle, autono...   \n",
       "3  [route guidance, routing, navigation, routes, ...   \n",
       "\n",
       "                                                 MMR   \n",
       "0  [query, user, device, search, client, client d...  \\\n",
       "1  [service, network, device, user, system, trans...   \n",
       "2  [vehicle, autonomous, autonomous vehicle, syst...   \n",
       "3  [location, route, method, user, based, trip, p...   \n",
       "\n",
       "                                                 POS   \n",
       "0  [query, user, device, search, client, data, sa...  \\\n",
       "1  [service, network, device, user, system, trans...   \n",
       "2  [vehicle, autonomous, autonomous vehicle, syst...   \n",
       "3  [location, route, method, user, trip, point, m...   \n",
       "\n",
       "                                 Representative_Docs  \n",
       "0  [Generation of response to query by computer u...  \n",
       "1  [Computer system for providing on-demand servi...  \n",
       "2  [Method for controlling autonomous vehicles to...  \n",
       "3  [Route providing method for navigation systems...  "
      ]
     },
     "execution_count": 22,
     "metadata": {},
     "output_type": "execute_result"
    }
   ],
   "source": [
    "# %% [code]\n",
    "# Preview of topics\n",
    "topic_model.get_topic_info()"
   ]
  },
  {
   "cell_type": "code",
   "execution_count": 23,
   "metadata": {},
   "outputs": [],
   "source": [
    "# Extract C-TF-IDF scores and words\n",
    "c_tf_idf = topic_model.c_tf_idf_\n",
    "words = topic_model.get_topic_info()\n",
    "\n",
    "# Convert C-TF-IDF scores to a DataFrame\n",
    "c_tf_idf_df = pd.DataFrame(c_tf_idf.toarray(), columns=topic_model.vectorizer_model.get_feature_names_out())\n",
    "\n",
    "# Save the C-TF-IDF scores DataFrame to a CSV file\n",
    "c_tf_idf_df.to_csv('c_tf_idf_scores.csv', index=False)\n",
    "\n",
    "# Extract the topic words and their scores\n",
    "topic_words = topic_model.get_topics()\n",
    "\n",
    "# Convert the topic words and scores to a DataFrame\n",
    "all_topic_words = []\n",
    "for topic_num, word_list in topic_words.items():\n",
    "    for word, score in word_list:\n",
    "        all_topic_words.append((topic_num, word, score))\n",
    "\n",
    "df_topic_words = pd.DataFrame(all_topic_words, columns=['Topic', 'Word', 'Score'])\n",
    "\n",
    "# Save the topic words and scores DataFrame to a CSV file\n",
    "df_topic_words.to_csv('topic_words_scores.csv', index=False)\n"
   ]
  },
  {
   "cell_type": "code",
   "execution_count": 24,
   "metadata": {},
   "outputs": [
    {
     "data": {
      "application/vnd.plotly.v1+json": {
       "config": {
        "plotlyServerURL": "https://plot.ly"
       },
       "data": [
        {
         "hoverinfo": "text",
         "marker": {
          "color": "rgb(61,153,112)"
         },
         "mode": "lines",
         "type": "scatter",
         "x": [
          0,
          0.6681009030770148,
          0.6681009030770148,
          0
         ],
         "xaxis": "x",
         "y": [
          -15,
          -15,
          -25,
          -25
         ],
         "yaxis": "y"
        },
        {
         "hoverinfo": "text",
         "marker": {
          "color": "rgb(61,153,112)"
         },
         "mode": "lines",
         "type": "scatter",
         "x": [
          0,
          0.7129035029905538,
          0.7129035029905538,
          0.6681009030770148
         ],
         "xaxis": "x",
         "y": [
          -5,
          -5,
          -20,
          -20
         ],
         "yaxis": "y"
        }
       ],
       "layout": {
        "autosize": false,
        "height": 245,
        "hoverlabel": {
         "bgcolor": "white",
         "font": {
          "family": "Rockwell",
          "size": 16
         }
        },
        "hovermode": "closest",
        "plot_bgcolor": "#ECEFF1",
        "showlegend": false,
        "template": {
         "data": {
          "bar": [
           {
            "error_x": {
             "color": "#2a3f5f"
            },
            "error_y": {
             "color": "#2a3f5f"
            },
            "marker": {
             "line": {
              "color": "white",
              "width": 0.5
             },
             "pattern": {
              "fillmode": "overlay",
              "size": 10,
              "solidity": 0.2
             }
            },
            "type": "bar"
           }
          ],
          "barpolar": [
           {
            "marker": {
             "line": {
              "color": "white",
              "width": 0.5
             },
             "pattern": {
              "fillmode": "overlay",
              "size": 10,
              "solidity": 0.2
             }
            },
            "type": "barpolar"
           }
          ],
          "carpet": [
           {
            "aaxis": {
             "endlinecolor": "#2a3f5f",
             "gridcolor": "#C8D4E3",
             "linecolor": "#C8D4E3",
             "minorgridcolor": "#C8D4E3",
             "startlinecolor": "#2a3f5f"
            },
            "baxis": {
             "endlinecolor": "#2a3f5f",
             "gridcolor": "#C8D4E3",
             "linecolor": "#C8D4E3",
             "minorgridcolor": "#C8D4E3",
             "startlinecolor": "#2a3f5f"
            },
            "type": "carpet"
           }
          ],
          "choropleth": [
           {
            "colorbar": {
             "outlinewidth": 0,
             "ticks": ""
            },
            "type": "choropleth"
           }
          ],
          "contour": [
           {
            "colorbar": {
             "outlinewidth": 0,
             "ticks": ""
            },
            "colorscale": [
             [
              0,
              "#0d0887"
             ],
             [
              0.1111111111111111,
              "#46039f"
             ],
             [
              0.2222222222222222,
              "#7201a8"
             ],
             [
              0.3333333333333333,
              "#9c179e"
             ],
             [
              0.4444444444444444,
              "#bd3786"
             ],
             [
              0.5555555555555556,
              "#d8576b"
             ],
             [
              0.6666666666666666,
              "#ed7953"
             ],
             [
              0.7777777777777778,
              "#fb9f3a"
             ],
             [
              0.8888888888888888,
              "#fdca26"
             ],
             [
              1,
              "#f0f921"
             ]
            ],
            "type": "contour"
           }
          ],
          "contourcarpet": [
           {
            "colorbar": {
             "outlinewidth": 0,
             "ticks": ""
            },
            "type": "contourcarpet"
           }
          ],
          "heatmap": [
           {
            "colorbar": {
             "outlinewidth": 0,
             "ticks": ""
            },
            "colorscale": [
             [
              0,
              "#0d0887"
             ],
             [
              0.1111111111111111,
              "#46039f"
             ],
             [
              0.2222222222222222,
              "#7201a8"
             ],
             [
              0.3333333333333333,
              "#9c179e"
             ],
             [
              0.4444444444444444,
              "#bd3786"
             ],
             [
              0.5555555555555556,
              "#d8576b"
             ],
             [
              0.6666666666666666,
              "#ed7953"
             ],
             [
              0.7777777777777778,
              "#fb9f3a"
             ],
             [
              0.8888888888888888,
              "#fdca26"
             ],
             [
              1,
              "#f0f921"
             ]
            ],
            "type": "heatmap"
           }
          ],
          "heatmapgl": [
           {
            "colorbar": {
             "outlinewidth": 0,
             "ticks": ""
            },
            "colorscale": [
             [
              0,
              "#0d0887"
             ],
             [
              0.1111111111111111,
              "#46039f"
             ],
             [
              0.2222222222222222,
              "#7201a8"
             ],
             [
              0.3333333333333333,
              "#9c179e"
             ],
             [
              0.4444444444444444,
              "#bd3786"
             ],
             [
              0.5555555555555556,
              "#d8576b"
             ],
             [
              0.6666666666666666,
              "#ed7953"
             ],
             [
              0.7777777777777778,
              "#fb9f3a"
             ],
             [
              0.8888888888888888,
              "#fdca26"
             ],
             [
              1,
              "#f0f921"
             ]
            ],
            "type": "heatmapgl"
           }
          ],
          "histogram": [
           {
            "marker": {
             "pattern": {
              "fillmode": "overlay",
              "size": 10,
              "solidity": 0.2
             }
            },
            "type": "histogram"
           }
          ],
          "histogram2d": [
           {
            "colorbar": {
             "outlinewidth": 0,
             "ticks": ""
            },
            "colorscale": [
             [
              0,
              "#0d0887"
             ],
             [
              0.1111111111111111,
              "#46039f"
             ],
             [
              0.2222222222222222,
              "#7201a8"
             ],
             [
              0.3333333333333333,
              "#9c179e"
             ],
             [
              0.4444444444444444,
              "#bd3786"
             ],
             [
              0.5555555555555556,
              "#d8576b"
             ],
             [
              0.6666666666666666,
              "#ed7953"
             ],
             [
              0.7777777777777778,
              "#fb9f3a"
             ],
             [
              0.8888888888888888,
              "#fdca26"
             ],
             [
              1,
              "#f0f921"
             ]
            ],
            "type": "histogram2d"
           }
          ],
          "histogram2dcontour": [
           {
            "colorbar": {
             "outlinewidth": 0,
             "ticks": ""
            },
            "colorscale": [
             [
              0,
              "#0d0887"
             ],
             [
              0.1111111111111111,
              "#46039f"
             ],
             [
              0.2222222222222222,
              "#7201a8"
             ],
             [
              0.3333333333333333,
              "#9c179e"
             ],
             [
              0.4444444444444444,
              "#bd3786"
             ],
             [
              0.5555555555555556,
              "#d8576b"
             ],
             [
              0.6666666666666666,
              "#ed7953"
             ],
             [
              0.7777777777777778,
              "#fb9f3a"
             ],
             [
              0.8888888888888888,
              "#fdca26"
             ],
             [
              1,
              "#f0f921"
             ]
            ],
            "type": "histogram2dcontour"
           }
          ],
          "mesh3d": [
           {
            "colorbar": {
             "outlinewidth": 0,
             "ticks": ""
            },
            "type": "mesh3d"
           }
          ],
          "parcoords": [
           {
            "line": {
             "colorbar": {
              "outlinewidth": 0,
              "ticks": ""
             }
            },
            "type": "parcoords"
           }
          ],
          "pie": [
           {
            "automargin": true,
            "type": "pie"
           }
          ],
          "scatter": [
           {
            "fillpattern": {
             "fillmode": "overlay",
             "size": 10,
             "solidity": 0.2
            },
            "type": "scatter"
           }
          ],
          "scatter3d": [
           {
            "line": {
             "colorbar": {
              "outlinewidth": 0,
              "ticks": ""
             }
            },
            "marker": {
             "colorbar": {
              "outlinewidth": 0,
              "ticks": ""
             }
            },
            "type": "scatter3d"
           }
          ],
          "scattercarpet": [
           {
            "marker": {
             "colorbar": {
              "outlinewidth": 0,
              "ticks": ""
             }
            },
            "type": "scattercarpet"
           }
          ],
          "scattergeo": [
           {
            "marker": {
             "colorbar": {
              "outlinewidth": 0,
              "ticks": ""
             }
            },
            "type": "scattergeo"
           }
          ],
          "scattergl": [
           {
            "marker": {
             "colorbar": {
              "outlinewidth": 0,
              "ticks": ""
             }
            },
            "type": "scattergl"
           }
          ],
          "scattermapbox": [
           {
            "marker": {
             "colorbar": {
              "outlinewidth": 0,
              "ticks": ""
             }
            },
            "type": "scattermapbox"
           }
          ],
          "scatterpolar": [
           {
            "marker": {
             "colorbar": {
              "outlinewidth": 0,
              "ticks": ""
             }
            },
            "type": "scatterpolar"
           }
          ],
          "scatterpolargl": [
           {
            "marker": {
             "colorbar": {
              "outlinewidth": 0,
              "ticks": ""
             }
            },
            "type": "scatterpolargl"
           }
          ],
          "scatterternary": [
           {
            "marker": {
             "colorbar": {
              "outlinewidth": 0,
              "ticks": ""
             }
            },
            "type": "scatterternary"
           }
          ],
          "surface": [
           {
            "colorbar": {
             "outlinewidth": 0,
             "ticks": ""
            },
            "colorscale": [
             [
              0,
              "#0d0887"
             ],
             [
              0.1111111111111111,
              "#46039f"
             ],
             [
              0.2222222222222222,
              "#7201a8"
             ],
             [
              0.3333333333333333,
              "#9c179e"
             ],
             [
              0.4444444444444444,
              "#bd3786"
             ],
             [
              0.5555555555555556,
              "#d8576b"
             ],
             [
              0.6666666666666666,
              "#ed7953"
             ],
             [
              0.7777777777777778,
              "#fb9f3a"
             ],
             [
              0.8888888888888888,
              "#fdca26"
             ],
             [
              1,
              "#f0f921"
             ]
            ],
            "type": "surface"
           }
          ],
          "table": [
           {
            "cells": {
             "fill": {
              "color": "#EBF0F8"
             },
             "line": {
              "color": "white"
             }
            },
            "header": {
             "fill": {
              "color": "#C8D4E3"
             },
             "line": {
              "color": "white"
             }
            },
            "type": "table"
           }
          ]
         },
         "layout": {
          "annotationdefaults": {
           "arrowcolor": "#2a3f5f",
           "arrowhead": 0,
           "arrowwidth": 1
          },
          "autotypenumbers": "strict",
          "coloraxis": {
           "colorbar": {
            "outlinewidth": 0,
            "ticks": ""
           }
          },
          "colorscale": {
           "diverging": [
            [
             0,
             "#8e0152"
            ],
            [
             0.1,
             "#c51b7d"
            ],
            [
             0.2,
             "#de77ae"
            ],
            [
             0.3,
             "#f1b6da"
            ],
            [
             0.4,
             "#fde0ef"
            ],
            [
             0.5,
             "#f7f7f7"
            ],
            [
             0.6,
             "#e6f5d0"
            ],
            [
             0.7,
             "#b8e186"
            ],
            [
             0.8,
             "#7fbc41"
            ],
            [
             0.9,
             "#4d9221"
            ],
            [
             1,
             "#276419"
            ]
           ],
           "sequential": [
            [
             0,
             "#0d0887"
            ],
            [
             0.1111111111111111,
             "#46039f"
            ],
            [
             0.2222222222222222,
             "#7201a8"
            ],
            [
             0.3333333333333333,
             "#9c179e"
            ],
            [
             0.4444444444444444,
             "#bd3786"
            ],
            [
             0.5555555555555556,
             "#d8576b"
            ],
            [
             0.6666666666666666,
             "#ed7953"
            ],
            [
             0.7777777777777778,
             "#fb9f3a"
            ],
            [
             0.8888888888888888,
             "#fdca26"
            ],
            [
             1,
             "#f0f921"
            ]
           ],
           "sequentialminus": [
            [
             0,
             "#0d0887"
            ],
            [
             0.1111111111111111,
             "#46039f"
            ],
            [
             0.2222222222222222,
             "#7201a8"
            ],
            [
             0.3333333333333333,
             "#9c179e"
            ],
            [
             0.4444444444444444,
             "#bd3786"
            ],
            [
             0.5555555555555556,
             "#d8576b"
            ],
            [
             0.6666666666666666,
             "#ed7953"
            ],
            [
             0.7777777777777778,
             "#fb9f3a"
            ],
            [
             0.8888888888888888,
             "#fdca26"
            ],
            [
             1,
             "#f0f921"
            ]
           ]
          },
          "colorway": [
           "#636efa",
           "#EF553B",
           "#00cc96",
           "#ab63fa",
           "#FFA15A",
           "#19d3f3",
           "#FF6692",
           "#B6E880",
           "#FF97FF",
           "#FECB52"
          ],
          "font": {
           "color": "#2a3f5f"
          },
          "geo": {
           "bgcolor": "white",
           "lakecolor": "white",
           "landcolor": "white",
           "showlakes": true,
           "showland": true,
           "subunitcolor": "#C8D4E3"
          },
          "hoverlabel": {
           "align": "left"
          },
          "hovermode": "closest",
          "mapbox": {
           "style": "light"
          },
          "paper_bgcolor": "white",
          "plot_bgcolor": "white",
          "polar": {
           "angularaxis": {
            "gridcolor": "#EBF0F8",
            "linecolor": "#EBF0F8",
            "ticks": ""
           },
           "bgcolor": "white",
           "radialaxis": {
            "gridcolor": "#EBF0F8",
            "linecolor": "#EBF0F8",
            "ticks": ""
           }
          },
          "scene": {
           "xaxis": {
            "backgroundcolor": "white",
            "gridcolor": "#DFE8F3",
            "gridwidth": 2,
            "linecolor": "#EBF0F8",
            "showbackground": true,
            "ticks": "",
            "zerolinecolor": "#EBF0F8"
           },
           "yaxis": {
            "backgroundcolor": "white",
            "gridcolor": "#DFE8F3",
            "gridwidth": 2,
            "linecolor": "#EBF0F8",
            "showbackground": true,
            "ticks": "",
            "zerolinecolor": "#EBF0F8"
           },
           "zaxis": {
            "backgroundcolor": "white",
            "gridcolor": "#DFE8F3",
            "gridwidth": 2,
            "linecolor": "#EBF0F8",
            "showbackground": true,
            "ticks": "",
            "zerolinecolor": "#EBF0F8"
           }
          },
          "shapedefaults": {
           "line": {
            "color": "#2a3f5f"
           }
          },
          "ternary": {
           "aaxis": {
            "gridcolor": "#DFE8F3",
            "linecolor": "#A2B1C6",
            "ticks": ""
           },
           "baxis": {
            "gridcolor": "#DFE8F3",
            "linecolor": "#A2B1C6",
            "ticks": ""
           },
           "bgcolor": "white",
           "caxis": {
            "gridcolor": "#DFE8F3",
            "linecolor": "#A2B1C6",
            "ticks": ""
           }
          },
          "title": {
           "x": 0.05
          },
          "xaxis": {
           "automargin": true,
           "gridcolor": "#EBF0F8",
           "linecolor": "#EBF0F8",
           "ticks": "",
           "title": {
            "standoff": 15
           },
           "zerolinecolor": "#EBF0F8",
           "zerolinewidth": 2
          },
          "yaxis": {
           "automargin": true,
           "gridcolor": "#EBF0F8",
           "linecolor": "#EBF0F8",
           "ticks": "",
           "title": {
            "standoff": 15
           },
           "zerolinecolor": "#EBF0F8",
           "zerolinewidth": 2
          }
         }
        },
        "title": {
         "font": {
          "color": "Black",
          "size": 22
         },
         "text": "<b>Hierarchical Clustering</b>",
         "x": 0.5,
         "xanchor": "center",
         "yanchor": "top"
        },
        "width": 1000,
        "xaxis": {
         "mirror": "allticks",
         "rangemode": "tozero",
         "showgrid": false,
         "showline": true,
         "showticklabels": true,
         "ticks": "outside",
         "type": "linear",
         "zeroline": false
        },
        "yaxis": {
         "mirror": "allticks",
         "range": [
          -30,
          0
         ],
         "rangemode": "tozero",
         "showgrid": false,
         "showline": true,
         "showticklabels": true,
         "tickmode": "array",
         "ticks": "outside",
         "ticktext": [
          "Topic 2 - Autonomous Vehicle",
          "Topic 1 - Digital Infrastructure",
          "Topic 3 - Traffic Navigation"
         ],
         "tickvals": [
          -5,
          -15,
          -25
         ],
         "type": "linear",
         "zeroline": false
        }
       }
      }
     },
     "metadata": {},
     "output_type": "display_data"
    }
   ],
   "source": [
    "# %% [code]\n",
    "# Visualize the hierarchy\n",
    "topic_model.visualize_hierarchy(top_n_topics=20, custom_labels=True)  # Adjust `top_n_topics` as needed"
   ]
  },
  {
   "cell_type": "code",
   "execution_count": 25,
   "metadata": {},
   "outputs": [
    {
     "name": "stdout",
     "output_type": "stream",
     "text": [
      "  publication_number          optimized_assignee   \n",
      "0        US6992900B1       uber technologies inc  \\\n",
      "1        US6992900B1                 suzue osamu   \n",
      "2        US7221267B2       uber technologies inc   \n",
      "3        US7310509B2  samsung electronics co ltd   \n",
      "4        US7489921B2  samsung electronics co ltd   \n",
      "\n",
      "                                            document   \n",
      "0  Board unit for use in communication device, ha...  \\\n",
      "1  Board unit for use in communication device, ha...   \n",
      "2  Communication method for alarm installation in...   \n",
      "3  Status data providing method for vehicle monit...   \n",
      "4  User notification method in centralized monito...   \n",
      "\n",
      "                                          clean_text  topic  \n",
      "0  Board unit for use in communication device , h...     -1  \n",
      "1  Board unit for use in communication device , h...     -1  \n",
      "2  Communication method for alarm installation in...      0  \n",
      "3  Status data providing method for vehicle monit...      1  \n",
      "4  User notification method in centralized monito...      1  \n"
     ]
    }
   ],
   "source": [
    "import pandas as pd\n",
    "\n",
    "# Load the alias mapping file\n",
    "alias_mapping = pd.read_csv(r'C:\\Users\\alber\\Desktop\\BERTopic/Assignee alias.txt', sep='\\t', header=None, names=['original', 'alias'])\n",
    "\n",
    "# Convert alias_mapping to lowercase for consistency\n",
    "alias_mapping['original'] = alias_mapping['original'].str.lower()\n",
    "alias_mapping['alias'] = alias_mapping['alias'].str.lower()\n",
    "\n",
    "# Assuming 'df' and 'topics' are already defined in your environment\n",
    "# Create a DataFrame to map documents to their topics using Publication Number and Optimized Assignee\n",
    "df_mapping = pd.DataFrame({\n",
    "    \"publication_number\": df['Publication Number'],\n",
    "    \"optimized_assignee\": df['Optimized Assignee'].str.lower(),  # Convert to lowercase\n",
    "    \"document\": df['text'],\n",
    "    \"clean_text\": df['clean_text'],\n",
    "    \"topic\": topics\n",
    "})\n",
    "\n",
    "# Create a dictionary from the alias mapping for faster lookup\n",
    "alias_dict = dict(zip(alias_mapping['original'], alias_mapping['alias']))\n",
    "\n",
    "# Function to split and expand rows\n",
    "def expand_assignees(row):\n",
    "    assignees = [assignee.strip() for assignee in row['optimized_assignee'].split('|')]\n",
    "    return pd.DataFrame({\n",
    "        'publication_number': [row['publication_number']] * len(assignees),\n",
    "        'optimized_assignee': assignees,\n",
    "        'document': [row['document']] * len(assignees),\n",
    "        'clean_text': [row['clean_text']] * len(assignees),\n",
    "        'topic': [row['topic']] * len(assignees)\n",
    "    })\n",
    "\n",
    "# Apply the function to the DataFrame and concatenate the results\n",
    "expanded_df = pd.concat(df_mapping.apply(expand_assignees, axis=1).tolist(), ignore_index=True)\n",
    "\n",
    "# Apply the alias mapping to the expanded DataFrame\n",
    "expanded_df['optimized_assignee'] = expanded_df['optimized_assignee'].map(alias_dict).fillna(expanded_df['optimized_assignee'])\n",
    "\n",
    "# Save the mapping to a CSV file for further analysis\n",
    "expanded_df.to_csv(\"document_topic_mapping_uber_only.csv\", index=False)\n",
    "\n",
    "# Display the first few rows of the expanded DataFrame\n",
    "print(expanded_df.head())"
   ]
  },
  {
   "cell_type": "code",
   "execution_count": 26,
   "metadata": {},
   "outputs": [
    {
     "data": {
      "image/png": "[encoded data removed]",
      "text/plain": [
       "<Figure size 1200x600 with 1 Axes>"
      ]
     },
     "metadata": {},
     "output_type": "display_data"
    }
   ],
   "source": [
    "# Count the number of documents per topic\n",
    "topic_counts = df_mapping['topic'].value_counts().sort_index().reset_index()\n",
    "topic_counts.columns = ['topic', 'count']\n",
    "\n",
    "# Define a color palette\n",
    "palette = sns.color_palette(\"viridis\", len(topic_counts))\n",
    "\n",
    "# Plot the document count for each topic\n",
    "plt.figure(figsize=(12, 6))\n",
    "barplot = sns.barplot(x='topic', y='count', data=topic_counts, palette=palette)\n",
    "plt.xlabel('Topic')\n",
    "plt.ylabel('Number of Patents')\n",
    "plt.title('Patent Count per Topic')\n",
    "\n",
    "# Annotate each bar with the count\n",
    "for index, row in topic_counts.iterrows():\n",
    "    barplot.text(index, row['count'], row['count'], color='black', ha=\"center\")\n",
    "\n",
    "# Rename the x-axis labels\n",
    "new_labels = ['Outlier', '1', '2', '3']\n",
    "barplot.set_xticklabels(new_labels)\n",
    "\n",
    "plt.show()"
   ]
  },
  {
   "cell_type": "code",
   "execution_count": 27,
   "metadata": {},
   "outputs": [
    {
     "data": {
      "image/png": "[encoded data removed]",
      "text/plain": [
       "<Figure size 1000x800 with 1 Axes>"
      ]
     },
     "metadata": {},
     "output_type": "display_data"
    }
   ],
   "source": [
    "import matplotlib.pyplot as plt\n",
    "\n",
    "# Count the number of documents per topic\n",
    "topic_counts = df_mapping['topic'].value_counts().sort_index().reset_index()\n",
    "topic_counts.columns = ['topic', 'count']\n",
    "\n",
    "# Plot the document count for each topic as a pie chart\n",
    "plt.figure(figsize=(10, 8))\n",
    "plt.pie(topic_counts['count'], labels=topic_counts['topic'], autopct='%1.1f%%', startangle=140)\n",
    "plt.title('Document Distribution per Topic')\n",
    "plt.show()"
   ]
  },
  {
   "cell_type": "code",
   "execution_count": 28,
   "metadata": {},
   "outputs": [
    {
     "data": {
      "application/vnd.plotly.v1+json": {
       "config": {
        "plotlyServerURL": "https://plot.ly"
       },
       "data": [
        {
         "hovertemplate": "x=%{x}<br>y=%{y}<br>topic=%{marker.color}<extra></extra>",
         "legendgroup": "",
         "marker": {
          "color": [
           -1,
           0,
           1,
           1,
           -1,
           0,
           2,
           2,
           2,
           2,
           0,
           2,
           -1,
           -1,
           -1,
           -1,
           2,
           2,
           2,
           2,
           2,
           2,
           2,
           2,
           2,
           2,
           -1,
           2,
           -1,
           0,
           -1,
           -1,
           -1,
           -1,
           0,
           1,
           -1,
           2,
           0,
           2,
           2,
           2,
           -1,
           -1,
           2,
           -1,
           -1,
           -1,
           -1,
           -1,
           2,
           2,
           2,
           1,
           -1,
           1,
           1,
           -1,
           -1,
           -1,
           1,
           0,
           -1,
           -1,
           1,
           -1,
           2,
           1,
           0,
           1,
           1,
           1,
           1,
           0,
           1,
           1,
           -1,
           2,
           1,
           2,
           -1,
           -1,
           -1,
           0,
           0,
           -1,
           0,
           -1,
           2,
           -1,
           1,
           -1,
           -1,
           0,
           -1,
           2,
           1,
           1,
           2,
           2,
           1,
           1,
           1,
           1,
           2,
           1,
           0,
           2,
           0,
           1,
           -1,
           1,
           2,
           1,
           1,
           1,
           1,
           0,
           2,
           2,
           1,
           -1,
           -1,
           1,
           -1,
           -1,
           0,
           0,
           0,
           1,
           0,
           1,
           1,
           1,
           2,
           2,
           1,
           -1,
           1,
           0,
           0,
           0,
           1,
           2,
           -1,
           2,
           1,
           2,
           -1,
           2,
           2,
           0,
           1,
           0,
           0,
           -1,
           1,
           0,
           1,
           1,
           0,
           2,
           2,
           2,
           1,
           1,
           0,
           0,
           -1,
           1,
           2,
           1,
           0,
           -1,
           -1,
           0,
           2,
           -1,
           0,
           1,
           2,
           1,
           0,
           1,
           1,
           1,
           2,
           1,
           2,
           2,
           2,
           1,
           1,
           1,
           2,
           2,
           1,
           1,
           1,
           1,
           0,
           1,
           1,
           1,
           0,
           2,
           2,
           1,
           0,
           0,
           2,
           1,
           0,
           1,
           0,
           1,
           1,
           1,
           1,
           -1,
           1,
           1,
           0,
           -1,
           0,
           1,
           1,
           2,
           2,
           1,
           -1,
           -1,
           1,
           1,
           1,
           0,
           0,
           0,
           1,
           1,
           2,
           1,
           1,
           -1,
           1,
           1,
           0,
           1,
           1,
           -1,
           1,
           2,
           0,
           1,
           1,
           2,
           -1,
           1,
           2,
           2,
           2,
           -1,
           2,
           0,
           0,
           0,
           1,
           -1,
           0,
           1,
           0,
           1,
           -1,
           2,
           2,
           1,
           -1,
           -1,
           0,
           2,
           2,
           1,
           1,
           1,
           0,
           0,
           1,
           1,
           0,
           0,
           -1,
           1,
           1,
           1,
           1,
           1,
           1,
           1,
           1,
           1,
           1,
           0,
           0,
           -1,
           0,
           1,
           1,
           1,
           0,
           2,
           1,
           -1,
           0,
           0,
           0,
           1,
           0,
           -1,
           1,
           0,
           0,
           1,
           0,
           2,
           1,
           1,
           0,
           0,
           1,
           1,
           1,
           2,
           1,
           1,
           -1,
           1,
           1,
           1,
           1,
           1,
           1,
           0,
           1,
           2,
           0,
           1,
           0,
           1,
           0,
           1,
           1,
           1,
           0,
           2,
           1,
           1,
           1,
           1,
           -1,
           0,
           -1,
           1,
           0,
           0,
           0,
           0,
           0,
           2,
           1,
           2,
           -1,
           2,
           1,
           0,
           0,
           -1,
           -1,
           1,
           1,
           0,
           2,
           1,
           1,
           1,
           0,
           0,
           1,
           0,
           -1,
           -1,
           0,
           1,
           1,
           1,
           0,
           2,
           2,
           0,
           1,
           0,
           1,
           1,
           2,
           2,
           1,
           0,
           2,
           0,
           -1,
           0,
           -1,
           2,
           1,
           0,
           2,
           1,
           1,
           2,
           2,
           2,
           0,
           2,
           0,
           -1,
           2,
           2,
           0,
           2,
           2,
           0,
           2,
           0,
           2,
           2,
           0,
           2,
           0,
           0,
           0,
           -1,
           2,
           1,
           0,
           2,
           2,
           0,
           1,
           0,
           -1,
           -1,
           0,
           -1,
           2,
           0,
           2,
           -1,
           0,
           0,
           0,
           -1,
           2,
           1,
           2,
           2,
           2,
           2,
           2,
           2,
           0,
           2,
           0,
           -1,
           0,
           0,
           2,
           2,
           2,
           2,
           0,
           2,
           -1,
           -1,
           0,
           2,
           2,
           0,
           0,
           2,
           -1,
           -1,
           2,
           2,
           2,
           0,
           0,
           2,
           0,
           2,
           -1,
           0,
           2,
           0,
           0,
           -1,
           0,
           2,
           2,
           -1,
           2,
           0,
           0,
           0,
           -1,
           2,
           0,
           2,
           2,
           0,
           2,
           0,
           0,
           -1,
           2,
           2,
           2,
           1,
           2,
           2,
           1,
           2,
           0,
           1,
           1,
           0,
           -1,
           0,
           0,
           -1,
           0,
           -1,
           0,
           1,
           -1,
           2,
           0,
           -1,
           2,
           0,
           0,
           0,
           2,
           2,
           0,
           -1,
           0,
           -1,
           2,
           0,
           2,
           2,
           1,
           0,
           0,
           -1,
           2,
           1,
           -1,
           -1,
           2,
           -1,
           2,
           0,
           0,
           0,
           0,
           0,
           0,
           2,
           2,
           1,
           1,
           0,
           1,
           0,
           1,
           0,
           1,
           0,
           -1,
           0,
           0,
           -1,
           2,
           0,
           2,
           2,
           0,
           0,
           0,
           1,
           0,
           0,
           0,
           0,
           2,
           0,
           2,
           2,
           1,
           2,
           0,
           2,
           2,
           0,
           0,
           0,
           0,
           2,
           1,
           2,
           0,
           2,
           -1,
           0,
           -1,
           2,
           0,
           0,
           1,
           -1,
           0,
           2,
           2,
           2,
           0,
           0,
           -1,
           0,
           0,
           2,
           0,
           0,
           0,
           1,
           0,
           -1,
           0,
           1,
           0,
           0,
           0,
           1,
           0,
           1,
           0,
           2,
           0,
           2,
           1,
           0,
           0,
           0,
           -1,
           1,
           0,
           1,
           -1,
           0,
           2,
           2,
           1,
           1,
           2,
           2,
           -1,
           -1,
           1,
           1,
           1,
           2,
           1,
           1,
           0,
           2,
           0,
           0,
           0,
           2,
           1,
           -1,
           0,
           0,
           1,
           0,
           0,
           0,
           0,
           0,
           0,
           1,
           2,
           1,
           0,
           2,
           1,
           0,
           1,
           -1,
           2,
           2,
           0,
           2,
           -1,
           0,
           0,
           0,
           0,
           1,
           2,
           -1,
           2,
           1,
           1,
           1,
           1,
           2,
           2,
           -1,
           1,
           1,
           -1,
           0,
           1,
           0,
           0,
           0,
           0,
           -1,
           0,
           0,
           0,
           0,
           1,
           1,
           0,
           2,
           1,
           0,
           -1,
           2,
           2,
           1,
           0,
           0,
           1,
           0,
           1,
           2,
           2,
           1,
           1,
           2,
           0,
           0,
           0,
           0,
           0,
           0,
           2,
           0,
           1,
           0,
           0,
           2,
           0,
           0,
           1,
           0,
           0,
           1,
           2,
           1,
           2,
           0,
           0,
           1,
           2,
           2,
           0,
           2,
           -1,
           2,
           0,
           1,
           0,
           1,
           2,
           2,
           0,
           0,
           0,
           1,
           2,
           1,
           0,
           0,
           0,
           2,
           0,
           0,
           2,
           0,
           2,
           1,
           1,
           1,
           0,
           0,
           0,
           2,
           2,
           1,
           1,
           1,
           0,
           0,
           1,
           1,
           2,
           -1,
           1,
           0,
           0,
           0,
           0,
           0,
           -1,
           1,
           0,
           0,
           0,
           0,
           2,
           -1,
           0,
           0,
           1,
           1
          ],
          "coloraxis": "coloraxis",
          "symbol": "circle"
         },
         "mode": "markers",
         "name": "",
         "orientation": "v",
         "showlegend": false,
         "type": "scatter",
         "x": [
          -4.119209289550781,
          -0.5989593267440796,
          -3.536827564239502,
          -3.610158920288086,
          -4.15602970123291,
          -1.0277247428894043,
          -0.6956425905227661,
          -0.17750465869903564,
          -0.19625985622406006,
          -0.20421378314495087,
          -1.0116745233535767,
          -1.4290846586227417,
          0.7719962000846863,
          0.7921739220619202,
          0.7897462248802185,
          0.779525876045227,
          -1.488294005393982,
          -2.4337456226348877,
          -0.6100479364395142,
          -2.757505178451538,
          -2.772372245788574,
          -2.741539239883423,
          -2.7810251712799072,
          -2.800870656967163,
          -2.56730580329895,
          -2.4492599964141846,
          12.067228317260742,
          -0.7865781188011169,
          12.127715110778809,
          -0.5320500135421753,
          12.409183502197266,
          12.13548469543457,
          0.7513670921325684,
          12.343119621276855,
          -0.6355307102203369,
          -4.488696575164795,
          12.342357635498047,
          -1.040338158607483,
          -0.6334896683692932,
          -2.7527754306793213,
          -2.769221067428589,
          -2.791346549987793,
          12.427082061767578,
          12.076343536376953,
          -0.7289700508117676,
          0.7496178150177002,
          0.7542281150817871,
          0.733163058757782,
          0.7720323801040649,
          12.375995635986328,
          -0.7876182794570923,
          -0.8109041452407837,
          -0.7764943838119507,
          -6.681128025054932,
          -0.8772226572036743,
          -5.818114280700684,
          -4.984659671783447,
          12.145903587341309,
          12.33181095123291,
          12.46094036102295,
          -5.171940803527832,
          -2.3653202056884766,
          12.052298545837402,
          12.499958992004395,
          -4.497575283050537,
          12.120161056518555,
          -1.6658858060836792,
          -4.809743881225586,
          0.4033558666706085,
          -5.524285316467285,
          -5.606541633605957,
          -5.207608699798584,
          -6.723209857940674,
          -1.3696930408477783,
          -5.816036224365234,
          -4.30217981338501,
          12.122566223144531,
          -1.734471321105957,
          -5.2412638664245605,
          -1.642382025718689,
          -2.3218095302581787,
          -2.316835403442383,
          -2.371721029281616,
          -2.3154420852661133,
          -2.185800552368164,
          -2.7784547805786133,
          -0.3749786913394928,
          12.029263496398926,
          -0.7222892642021179,
          12.031147003173828,
          -6.626060485839844,
          12.0524320602417,
          -2.6603822708129883,
          0.11330137401819229,
          -2.547255754470825,
          -1.0562427043914795,
          -5.520307540893555,
          -5.547343730926514,
          -2.7424824237823486,
          -0.757771909236908,
          -5.168028354644775,
          -6.1319475173950195,
          -3.4295380115509033,
          -4.637235641479492,
          -0.9990589022636414,
          -4.576452732086182,
          -0.8291786909103394,
          -0.6081467866897583,
          -0.1718854010105133,
          -5.113377094268799,
          -2.089714288711548,
          -4.997753620147705,
          -2.761544704437256,
          -5.524785041809082,
          -3.5666117668151855,
          -5.970160961151123,
          -6.044690132141113,
          -0.40601688623428345,
          -1.545791745185852,
          -2.672671318054199,
          -5.709743499755859,
          12.433144569396973,
          12.322768211364746,
          -5.284910678863525,
          12.183907508850098,
          -2.7648401260375977,
          0.6017600297927856,
          0.6221460103988647,
          0.5883797407150269,
          -5.761178493499756,
          0.011346920393407345,
          -6.171006679534912,
          -6.102733135223389,
          -5.28068208694458,
          -1.3390653133392334,
          -2.093693733215332,
          -5.780933380126953,
          12.308317184448242,
          -4.401490211486816,
          -0.9141203761100769,
          -0.9211758375167847,
          -0.9538699984550476,
          -5.982672691345215,
          -1.5652966499328613,
          12.390094757080078,
          -3.137895107269287,
          -5.213994979858398,
          -2.628060817718506,
          -3.558764696121216,
          -0.7993998527526855,
          -1.929531216621399,
          -1.334539771080017,
          -4.129249572753906,
          0.07235493510961533,
          -1.9320197105407715,
          12.302260398864746,
          -6.159343719482422,
          0.12279059737920761,
          -5.774493217468262,
          -5.383662700653076,
          -2.0695722103118896,
          -2.164947032928467,
          -2.198645830154419,
          -2.1471633911132812,
          -4.252758026123047,
          -5.54301118850708,
          -0.5089629292488098,
          -2.082192897796631,
          0.7469865679740906,
          -6.146604061126709,
          -0.8675317764282227,
          -5.101829528808594,
          -2.7169063091278076,
          12.138747215270996,
          -4.187562942504883,
          0.20885248482227325,
          -0.6368547081947327,
          12.103289604187012,
          -1.524226188659668,
          -5.810085773468018,
          -2.5832321643829346,
          -6.1670637130737305,
          0.12085441499948502,
          -5.133919715881348,
          -6.723056793212891,
          -5.666697025299072,
          -1.845862865447998,
          -4.7499871253967285,
          -2.0669665336608887,
          -1.0568853616714478,
          -1.9639123678207397,
          -6.6999311447143555,
          -5.052116394042969,
          -4.559646129608154,
          -2.083017587661743,
          -3.1890788078308105,
          -3.4406228065490723,
          -5.900148391723633,
          -5.729522228240967,
          -6.708889961242676,
          -0.7705890536308289,
          -5.630036354064941,
          -6.152053356170654,
          -5.696053504943848,
          -2.2736833095550537,
          -2.1741127967834473,
          -2.016615629196167,
          -5.620635509490967,
          -0.911476731300354,
          0.5781084299087524,
          -2.4715631008148193,
          -3.7898476123809814,
          -1.7838510274887085,
          -6.2360968589782715,
          -2.6624865531921387,
          -5.480350971221924,
          -5.18195915222168,
          -5.861672878265381,
          -6.079538822174072,
          -2.5834224224090576,
          -4.941707134246826,
          -5.386890411376953,
          -1.2826447486877441,
          -2.577150821685791,
          -1.270216941833496,
          -6.109677791595459,
          -5.228147029876709,
          -2.051593065261841,
          -1.8755638599395752,
          -5.45377779006958,
          -2.9141159057617188,
          12.00520133972168,
          -6.019908905029297,
          -5.167301654815674,
          -5.512378692626953,
          -2.4351136684417725,
          0.03083992563188076,
          0.13612021505832672,
          -6.225690841674805,
          -5.067464351654053,
          -2.7129428386688232,
          -5.9759979248046875,
          -5.240535736083984,
          -3.6073126792907715,
          -5.387843608856201,
          -5.7360124588012695,
          -0.17146693170070648,
          -6.119335174560547,
          -4.412509441375732,
          12.17671012878418,
          -5.572249889373779,
          -2.1125195026397705,
          0.2294323593378067,
          -5.18466329574585,
          -5.358297348022461,
          -0.977750301361084,
          -4.290170669555664,
          -5.128223419189453,
          -1.627700924873352,
          -1.6514278650283813,
          -1.6725828647613525,
          -1.2694350481033325,
          -1.099570870399475,
          -2.9228594303131104,
          -0.07238317281007767,
          -2.148777723312378,
          -5.0960164070129395,
          -1.1832388639450073,
          -1.6079156398773193,
          -5.986213207244873,
          -2.878889322280884,
          -5.548324108123779,
          -1.6642067432403564,
          -3.156588554382324,
          -2.018347978591919,
          -5.007277011871338,
          12.194032669067383,
          12.490788459777832,
          -2.530487060546875,
          -2.274704694747925,
          -2.1674163341522217,
          -5.33992862701416,
          -5.407948970794678,
          -5.982438564300537,
          -0.6621319055557251,
          0.4464040696620941,
          -5.082520008087158,
          -6.212326526641846,
          -0.2850150763988495,
          -1.4355430603027344,
          12.085148811340332,
          -5.560196876525879,
          -4.711448669433594,
          -6.580277442932129,
          -4.8902153968811035,
          -4.68141508102417,
          -5.628469467163086,
          -6.0035200119018555,
          -5.870306015014648,
          -3.412767171859741,
          -5.543988227844238,
          -2.128650188446045,
          -0.37242773175239563,
          12.12823486328125,
          -0.517795741558075,
          -5.247513771057129,
          -3.4866557121276855,
          -5.700917720794678,
          -2.234996795654297,
          -2.73750376701355,
          -4.540352821350098,
          -2.9420952796936035,
          -2.1239895820617676,
          -2.52362322807312,
          -1.4214874505996704,
          -6.041280746459961,
          -0.6700864434242249,
          -3.692924737930298,
          -6.006359577178955,
          -2.1159579753875732,
          -3.0286529064178467,
          -5.476339340209961,
          -1.804158329963684,
          -1.3546947240829468,
          -5.060146331787109,
          -5.440301418304443,
          -0.8797600865364075,
          -2.4864015579223633,
          -5.363684177398682,
          -5.542303085327148,
          -3.7669663429260254,
          -2.5805559158325195,
          -4.2194905281066895,
          -5.772305965423584,
          -2.44587779045105,
          -4.9365339279174805,
          -5.184943675994873,
          -5.62135648727417,
          -5.63633918762207,
          -5.155323028564453,
          -5.741196155548096,
          -0.8304077982902527,
          -5.786011219024658,
          -2.566214084625244,
          -0.162072092294693,
          -3.6704108715057373,
          -1.4949547052383423,
          -5.3693671226501465,
          -0.9970709681510925,
          -4.946597576141357,
          -5.741562366485596,
          -5.057635307312012,
          -1.0927003622055054,
          -1.2432488203048706,
          -4.779019355773926,
          -5.328925132751465,
          -5.860864639282227,
          -5.352782249450684,
          -3.6352274417877197,
          -0.59444260597229,
          12.250638008117676,
          -5.403229236602783,
          -0.22592481970787048,
          0.3909998834133148,
          0.3824675679206848,
          -0.5124297142028809,
          -1.038894534111023,
          -2.2372848987579346,
          -5.070796012878418,
          -2.1934289932250977,
          -3.5778114795684814,
          -2.008183717727661,
          -5.342761039733887,
          -1.0091594457626343,
          0.44324958324432373,
          -2.950136661529541,
          -3.7150604724884033,
          -4.892953395843506,
          -5.852097034454346,
          0.01744862273335457,
          -2.081320285797119,
          -5.47836971282959,
          -5.471524238586426,
          -4.685906887054443,
          -1.5929116010665894,
          -0.4939592778682709,
          -5.508910179138184,
          -0.10963118076324463,
          -2.541672945022583,
          -3.6113836765289307,
          -1.1577281951904297,
          -5.943660259246826,
          -5.439067363739014,
          -6.070735454559326,
          0.2765226662158966,
          -1.212135672569275,
          -2.336057186126709,
          -0.3452937602996826,
          -5.251826286315918,
          -0.15480352938175201,
          -5.285252571105957,
          -5.472947597503662,
          -2.6539394855499268,
          -2.6197350025177,
          -5.519019603729248,
          0.18888236582279205,
          -2.669080972671509,
          -1.5158095359802246,
          -2.046459674835205,
          -2.2109475135803223,
          -1.601384162902832,
          -1.1715879440307617,
          -3.755070686340332,
          0.003008878091350198,
          -2.3014605045318604,
          -5.453742980957031,
          -3.3026435375213623,
          -0.9914920330047607,
          -2.5227744579315186,
          -1.6590428352355957,
          -0.3325868844985962,
          0.4528139531612396,
          -0.3614308536052704,
          -2.9183928966522217,
          -2.71439266204834,
          -1.9787100553512573,
          -3.588545799255371,
          -2.3683111667633057,
          -2.57473087310791,
          0.5474644303321838,
          -1.9936859607696533,
          -0.7973574995994568,
          -3.21844744682312,
          -1.2457858324050903,
          -0.009150742553174496,
          -2.0868027210235596,
          -0.13298983871936798,
          -0.09645727276802063,
          0.21703103184700012,
          -3.006316661834717,
          0.8950678110122681,
          -3.7262344360351562,
          -0.9178930521011353,
          0.1975565403699875,
          -1.9769341945648193,
          -1.8357791900634766,
          -5.486995220184326,
          0.0036910970229655504,
          12.406740188598633,
          12.540841102600098,
          -1.8803164958953857,
          12.730650901794434,
          -2.729994535446167,
          0.1599625051021576,
          -0.9676239490509033,
          -3.3289926052093506,
          -1.5562915802001953,
          -2.0608856678009033,
          0.619544267654419,
          -0.9422954320907593,
          -2.1274845600128174,
          -3.453429937362671,
          -0.7635267376899719,
          -0.6418408751487732,
          -1.9559544324874878,
          -1.6432605981826782,
          -0.3055495023727417,
          -2.2269139289855957,
          -0.3549804091453552,
          -2.2509660720825195,
          -0.3552377223968506,
          -1.0872341394424438,
          -1.6450178623199463,
          -0.24819841980934143,
          -1.844927430152893,
          -0.7798910140991211,
          -2.0820319652557373,
          0.8908865451812744,
          -1.8502379655838013,
          -0.5497981905937195,
          -2.9587197303771973,
          -0.872561514377594,
          -0.3791455924510956,
          -1.6906213760375977,
          -1.0361970663070679,
          -1.2052099704742432,
          -0.7867963910102844,
          -0.7971571087837219,
          -3.6702940464019775,
          -2.5091195106506348,
          0.8751054406166077,
          -2.1908724308013916,
          -2.6473915576934814,
          -1.1568692922592163,
          -0.7900857329368591,
          -1.544736385345459,
          -0.9567314386367798,
          -2.1232097148895264,
          -2.7924699783325195,
          -1.0015760660171509,
          0.6589935421943665,
          -1.5965473651885986,
          -0.2508592903614044,
          -2.8376481533050537,
          0.47987833619117737,
          -2.55379581451416,
          -1.8168691396713257,
          -2.9375810623168945,
          0.9004455804824829,
          -1.0691909790039062,
          -0.4658016860485077,
          -2.0466980934143066,
          -2.4051196575164795,
          -0.8486726880073547,
          -2.441375255584717,
          -1.7480682134628296,
          -2.0245821475982666,
          -2.123776435852051,
          0.8143607378005981,
          -2.2019245624542236,
          -0.6963000893592834,
          -2.851482391357422,
          -0.9678428173065186,
          -1.9465126991271973,
          -2.2842884063720703,
          -3.691169023513794,
          -1.9270389080047607,
          -2.322155237197876,
          -5.360226631164551,
          -0.1525096744298935,
          -1.9064199924468994,
          -4.648716449737549,
          -3.7349131107330322,
          -0.2656223177909851,
          -2.5369961261749268,
          -0.30422061681747437,
          -0.5158851146697998,
          -1.32033109664917,
          -1.2438030242919922,
          -1.4407806396484375,
          -1.6074659824371338,
          -4.214908123016357,
          -0.4052651822566986,
          -2.067136526107788,
          0.10296785086393356,
          -3.006596088409424,
          -0.07497410476207733,
          -1.3406022787094116,
          -0.34091418981552124,
          0.24330519139766693,
          -1.045096755027771,
          -0.5654178857803345,
          0.08700456470251083,
          -1.6767398118972778,
          0.7009449005126953,
          -0.3340221643447876,
          -0.9309610724449158,
          -0.18096835911273956,
          -2.029019355773926,
          -1.8649828433990479,
          -3.8917393684387207,
          -0.9241176843643188,
          -1.9649237394332886,
          -2.7956926822662354,
          -1.7226096391677856,
          -5.952026844024658,
          -0.3780294954776764,
          -2.5531952381134033,
          -1.3119432926177979,
          -1.4048093557357788,
          -2.548856258392334,
          -1.5086517333984375,
          -0.008058947511017323,
          -0.10210828483104706,
          -0.4716711938381195,
          -0.23351037502288818,
          -1.2071130275726318,
          -2.116765022277832,
          -2.707127094268799,
          -5.658087253570557,
          -5.027687072753906,
          -0.8322045803070068,
          -5.437246322631836,
          -2.0500988960266113,
          -5.627264499664307,
          -0.9558911323547363,
          -5.404720306396484,
          -2.172881841659546,
          -2.7589869499206543,
          -2.1593804359436035,
          -0.7989020943641663,
          12.490513801574707,
          -1.9034196138381958,
          -3.1347861289978027,
          -2.3318734169006348,
          0.8612233400344849,
          -1.5832651853561401,
          -1.4215936660766602,
          0.3914616107940674,
          -3.1912384033203125,
          0.054288607090711594,
          -0.17429545521736145,
          -0.08490186929702759,
          0.019453370943665504,
          -1.0643837451934814,
          -2.0418457984924316,
          -1.6653462648391724,
          -2.2633867263793945,
          -4.761662006378174,
          -2.1364877223968506,
          -1.2347344160079956,
          -2.7804198265075684,
          -2.5563385486602783,
          -0.3681009113788605,
          0.32031089067459106,
          -0.3446168899536133,
          0.19872154295444489,
          -2.1248888969421387,
          -5.121619701385498,
          -1.0614774227142334,
          0.08403818309307098,
          -2.567770004272461,
          -2.8266518115997314,
          -1.6269152164459229,
          -3.034811019897461,
          -3.232206106185913,
          -1.4544647932052612,
          0.2775883972644806,
          -4.854519844055176,
          -0.8424830436706543,
          -0.10226898640394211,
          0.953048586845398,
          -0.2491564154624939,
          -2.661306381225586,
          -1.6657553911209106,
          -1.4442353248596191,
          -3.442629814147949,
          -0.6709691882133484,
          0.4057670533657074,
          -2.2465531826019287,
          -0.15656782686710358,
          -2.8493921756744385,
          0.49420785903930664,
          -5.411785125732422,
          -0.28016185760498047,
          0.7364956140518188,
          -2.222249746322632,
          -3.7878010272979736,
          -1.608278512954712,
          0.3473874628543854,
          -1.1679561138153076,
          -5.816430568695068,
          -0.588516116142273,
          -4.259592056274414,
          -1.0519717931747437,
          -2.0636935234069824,
          -0.009262626059353352,
          -2.3229384422302246,
          -5.680693626403809,
          -1.462487816810608,
          0.6020915508270264,
          0.040776826441287994,
          -0.9374343156814575,
          -4.2899699211120605,
          -1.365782380104065,
          -3.799389362335205,
          -3.7985684871673584,
          -0.29306381940841675,
          -0.7983724474906921,
          -3.0864288806915283,
          -5.6315131187438965,
          -3.8042783737182617,
          -2.5459721088409424,
          -0.4586566090583801,
          -2.3611247539520264,
          -3.0009024143218994,
          -4.47071647644043,
          -5.901259899139404,
          -3.7199835777282715,
          -2.2223918437957764,
          -4.2063446044921875,
          -3.79982852935791,
          -0.4512166380882263,
          -2.6656203269958496,
          -1.9979885816574097,
          -1.4826172590255737,
          -0.9152398705482483,
          -0.6135779023170471,
          -5.1981353759765625,
          -0.1382254660129547,
          -1.5917840003967285,
          -0.17276577651500702,
          -4.611593723297119,
          0.5386683940887451,
          -2.1059505939483643,
          -0.43353524804115295,
          -1.647111177444458,
          -0.6623219847679138,
          -0.16125184297561646,
          -5.052218914031982,
          -1.8889819383621216,
          -4.365808486938477,
          -0.48578569293022156,
          -0.22366230189800262,
          -5.350895404815674,
          -0.14725226163864136,
          -4.940661907196045,
          -0.6682713031768799,
          0.8756865859031677,
          -2.3023641109466553,
          -1.1416364908218384,
          -1.5411641597747803,
          -0.8176209926605225,
          -1.6068785190582275,
          -1.6735239028930664,
          -2.2899770736694336,
          -0.8209973573684692,
          -5.02618408203125,
          -2.2874655723571777,
          -2.7874631881713867,
          -1.8242489099502563,
          -5.410783290863037,
          -4.324798107147217,
          -5.163650989532471,
          -3.494133472442627,
          -1.8292405605316162,
          -0.6742427349090576,
          -3.7146987915039062,
          -4.716979026794434,
          -5.829718589782715,
          -2.9191131591796875,
          0.006416230462491512,
          -5.0080766677856445,
          -1.3840534687042236,
          -0.9153645038604736,
          -1.748105525970459,
          -2.682796001434326,
          -0.3821309804916382,
          -0.6358832120895386,
          0.011019325815141201,
          0.12425292283296585,
          -1.071843147277832,
          -5.2466721534729,
          -5.0393595695495605,
          0.1463015377521515,
          -2.075998306274414,
          -3.5695831775665283,
          -1.1686755418777466,
          -1.5055294036865234,
          -1.1920452117919922,
          -0.8610289692878723,
          -5.342616081237793,
          -0.11357936263084412,
          0.08359581977128983,
          -4.7635698318481445,
          -0.4691103994846344,
          -5.307197093963623,
          -2.66991925239563,
          -2.4769604206085205,
          -4.602546215057373,
          -3.7519783973693848,
          -1.6494885683059692,
          -0.4109225273132324,
          -0.6674497723579407,
          -1.942755103111267,
          -1.7182531356811523,
          -1.5121536254882812,
          -1.0519939661026,
          -0.9899508357048035,
          -1.1898342370986938,
          -4.842647075653076,
          -1.6528135538101196,
          -1.9159363508224487,
          -3.0190110206604004,
          -0.9471386075019836,
          -2.0501790046691895,
          -4.964512825012207,
          0.5061584711074829,
          -0.1210450828075409,
          -5.5213422775268555,
          -1.7444218397140503,
          -4.656175136566162,
          -1.0498764514923096,
          -0.09728362411260605,
          -0.38285818696022034,
          -4.974672794342041,
          -0.5065204501152039,
          -1.0582222938537598,
          -2.107952833175659,
          -2.773911714553833,
          -3.690429449081421,
          -1.1152416467666626,
          -1.236466646194458,
          -5.588977336883545,
          -1.5848557949066162,
          -5.828371524810791,
          -1.3066420555114746,
          -1.320407509803772,
          -0.47507232427597046,
          -1.2218196392059326,
          -1.5698859691619873,
          -3.8061532974243164,
          -2.2182981967926025,
          -5.367159843444824,
          -0.6410278081893921,
          -1.2661768198013306,
          -2.471676826477051,
          -2.2599117755889893,
          -1.5181411504745483,
          -0.28533247113227844,
          -2.1675326824188232,
          -1.500476360321045,
          -2.759904146194458,
          -4.297906398773193,
          -5.054007053375244,
          -5.784275054931641,
          -0.19922247529029846,
          -0.17575381696224213,
          -0.8401166200637817,
          -2.5982248783111572,
          0.9672134518623352,
          -3.7674050331115723,
          -4.750276565551758,
          -6.012485504150391,
          -1.5637776851654053,
          -1.9763587713241577,
          -4.6392621994018555,
          -5.536612510681152,
          -1.8234302997589111,
          0.7096155285835266,
          -4.811717987060547,
          -0.3676392734050751,
          -0.9738275408744812,
          -1.8352378606796265,
          -1.4029412269592285,
          0.05643722787499428,
          -4.346756935119629,
          -5.146881580352783,
          -1.8358269929885864,
          -0.2879292070865631,
          -2.1778006553649902,
          -1.543997049331665,
          0.8394487500190735,
          -4.038973331451416,
          -0.9232515692710876,
          -1.331209659576416,
          -5.694964408874512,
          -3.979403018951416
         ],
         "xaxis": "x",
         "y": [
          15.77000617980957,
          13.947359085083008,
          14.744205474853516,
          14.61297607421875,
          15.722234725952148,
          14.130680084228516,
          11.755671501159668,
          12.229796409606934,
          12.235827445983887,
          12.243759155273438,
          14.09931468963623,
          10.855769157409668,
          7.518355846405029,
          7.50998067855835,
          7.525604724884033,
          7.502789497375488,
          10.88081169128418,
          10.735223770141602,
          11.234652519226074,
          9.690786361694336,
          9.67138671875,
          9.707647323608398,
          9.69007396697998,
          9.634354591369629,
          10.65438461303711,
          10.741567611694336,
          -0.037128135561943054,
          10.758560180664062,
          0.05970325320959091,
          13.998250961303711,
          0.15874947607517242,
          0.021601734682917595,
          7.046839237213135,
          0.2654399573802948,
          13.987261772155762,
          15.317619323730469,
          0.28673413395881653,
          11.822551727294922,
          13.995966911315918,
          9.674125671386719,
          9.666502952575684,
          9.651917457580566,
          0.27743127942085266,
          -0.039206672459840775,
          12.853902816772461,
          7.048757553100586,
          7.061128616333008,
          7.0204291343688965,
          7.067802906036377,
          0.1961686760187149,
          10.756706237792969,
          10.786972045898438,
          10.733736991882324,
          14.646020889282227,
          13.049318313598633,
          14.124164581298828,
          13.905167579650879,
          -0.034072376787662506,
          0.2792641520500183,
          -0.3812151253223419,
          14.996828079223633,
          14.378898620605469,
          0.01173952966928482,
          -0.39944347739219666,
          14.25656795501709,
          -0.021214434877038002,
          11.028849601745605,
          14.387763977050781,
          14.47380542755127,
          13.622786521911621,
          13.178954124450684,
          14.97960090637207,
          14.677760124206543,
          14.395857810974121,
          13.711174964904785,
          13.819169998168945,
          0.07577930390834808,
          10.77125358581543,
          15.083449363708496,
          11.453132629394531,
          13.901566505432129,
          13.960434913635254,
          13.901618957519531,
          13.95355224609375,
          14.461108207702637,
          14.71137523651123,
          14.899807929992676,
          -0.09963055700063705,
          12.066085815429688,
          -0.10532008856534958,
          14.662010192871094,
          -0.019012561067938805,
          14.6882963180542,
          14.746353149414062,
          14.564064025878906,
          12.246195793151855,
          15.942608833312988,
          15.967820167541504,
          11.698647499084473,
          12.617234230041504,
          15.102502822875977,
          14.805814743041992,
          14.481184005737305,
          13.787283897399902,
          11.356389999389648,
          15.352639198303223,
          14.284103393554688,
          12.586160659790039,
          14.00378704071045,
          13.215616226196289,
          14.640959739685059,
          13.280259132385254,
          10.378435134887695,
          15.924812316894531,
          15.047829627990723,
          15.197061538696289,
          15.10574722290039,
          13.915820121765137,
          12.224187850952148,
          11.50716495513916,
          14.499884605407715,
          0.09832426905632019,
          0.06061544269323349,
          15.15324592590332,
          -0.02597394958138466,
          14.702027320861816,
          15.210675239562988,
          15.2567138671875,
          15.242902755737305,
          14.39365005493164,
          14.362066268920898,
          14.939355850219727,
          14.789554595947266,
          15.722654342651367,
          13.294729232788086,
          13.436427116394043,
          15.037741661071777,
          -0.018936416134238243,
          13.796253204345703,
          13.950851440429688,
          13.94034481048584,
          13.93979549407959,
          14.924493789672852,
          13.165771484375,
          0.07622987776994705,
          11.090946197509766,
          13.612198829650879,
          10.47012996673584,
          13.759833335876465,
          12.419923782348633,
          11.433128356933594,
          16.120555877685547,
          14.323376655578613,
          14.274327278137207,
          14.703035354614258,
          0.12593159079551697,
          14.040185928344727,
          14.33508014678955,
          15.010306358337402,
          13.84280014038086,
          14.249871253967285,
          13.41861343383789,
          13.439637184143066,
          13.490266799926758,
          13.798630714416504,
          13.703291893005371,
          14.917004585266113,
          14.759000778198242,
          7.024988174438477,
          14.892688751220703,
          11.3837890625,
          14.575699806213379,
          15.41812801361084,
          -0.01247376762330532,
          15.761756896972656,
          15.552300453186035,
          12.639208793640137,
          -0.03198695555329323,
          14.412893295288086,
          14.973577499389648,
          10.655538558959961,
          14.514713287353516,
          13.96395206451416,
          13.551949501037598,
          14.667028427124023,
          13.957748413085938,
          11.457415580749512,
          13.111780166625977,
          10.659965515136719,
          12.578067779541016,
          13.149405479431152,
          14.69450855255127,
          13.596609115600586,
          14.21721363067627,
          12.985273361206055,
          11.155314445495605,
          14.470673561096191,
          14.770427703857422,
          15.426017761230469,
          14.670083045959473,
          14.218646049499512,
          13.607523918151855,
          14.341641426086426,
          13.590927124023438,
          15.053388595581055,
          10.801836967468262,
          11.880807876586914,
          15.294440269470215,
          13.289626121520996,
          14.132185935974121,
          11.527743339538574,
          15.027527809143066,
          14.853428840637207,
          14.057137489318848,
          15.350932121276855,
          13.863299369812012,
          15.055670738220215,
          14.175251960754395,
          14.050603866577148,
          12.479290008544922,
          14.946892738342285,
          14.958303451538086,
          15.944771766662598,
          14.530144691467285,
          14.719565391540527,
          14.84550952911377,
          12.914568901062012,
          13.569782257080078,
          11.875615119934082,
          14.064264297485352,
          14.687239646911621,
          -0.11717646569013596,
          14.362438201904297,
          13.523214340209961,
          15.929762840270996,
          15.20724105834961,
          12.969091415405273,
          14.753018379211426,
          14.055408477783203,
          13.79889965057373,
          10.382905006408691,
          14.532022476196289,
          15.313945770263672,
          11.68816089630127,
          14.193560600280762,
          13.682540893554688,
          15.096205711364746,
          14.930258750915527,
          14.316490173339844,
          0.22190338373184204,
          13.903294563293457,
          10.513079643249512,
          15.189884185791016,
          15.011636734008789,
          15.624524116516113,
          12.293519973754883,
          15.840794563293457,
          15.727771759033203,
          11.535796165466309,
          11.486114501953125,
          11.515929222106934,
          13.686767578125,
          12.600049018859863,
          15.44326114654541,
          15.394787788391113,
          15.233380317687988,
          15.42155647277832,
          15.668174743652344,
          14.570157051086426,
          14.603029251098633,
          14.920143127441406,
          13.503510475158691,
          14.099709510803223,
          11.102192878723145,
          11.421854972839355,
          13.552205085754395,
          0.25124067068099976,
          -0.3984946608543396,
          15.297423362731934,
          10.464598655700684,
          12.030311584472656,
          15.537568092346191,
          12.8938570022583,
          15.127952575683594,
          15.376299858093262,
          14.413710594177246,
          13.492634773254395,
          14.506081581115723,
          15.006950378417969,
          14.601875305175781,
          -0.004708935972303152,
          15.858826637268066,
          13.035384178161621,
          14.574226379394531,
          12.929859161376953,
          12.988372802734375,
          15.268275260925293,
          14.452531814575195,
          14.429356575012207,
          15.365255355834961,
          13.372698783874512,
          14.472902297973633,
          15.15078353881836,
          -0.0012563184136524796,
          13.720198631286621,
          14.28297233581543,
          14.473433494567871,
          15.650835990905762,
          13.95439338684082,
          11.635787963867188,
          15.328472137451172,
          12.938445091247559,
          15.202335357666016,
          15.532748222351074,
          16.579391479492188,
          14.821084976196289,
          14.967329978942871,
          13.57707691192627,
          14.91965389251709,
          15.380443572998047,
          15.229898452758789,
          15.948641777038574,
          14.590627670288086,
          12.99312686920166,
          13.3486967086792,
          14.565882682800293,
          14.35560417175293,
          15.349126815795898,
          15.565733909606934,
          13.021339416503906,
          14.99591064453125,
          11.454216003417969,
          13.730926513671875,
          15.335783958435059,
          12.275015830993652,
          13.891474723815918,
          13.384703636169434,
          13.161245346069336,
          15.437809944152832,
          12.88224983215332,
          13.564557075500488,
          15.169793128967285,
          13.508685111999512,
          10.913360595703125,
          15.321901321411133,
          12.803899765014648,
          16.65577507019043,
          14.327020645141602,
          13.369433403015137,
          12.930052757263184,
          13.75781536102295,
          12.853588104248047,
          15.585613250732422,
          12.381302833557129,
          14.236218452453613,
          15.757826805114746,
          14.750629425048828,
          14.885807991027832,
          13.587004661560059,
          14.02627182006836,
          0.2598339915275574,
          15.32833480834961,
          14.575043678283691,
          13.97243881225586,
          13.878825187683105,
          13.782637596130371,
          15.566271781921387,
          13.066672325134277,
          14.253026962280273,
          13.365011215209961,
          11.663484573364258,
          11.719493865966797,
          13.043675422668457,
          15.5161771774292,
          14.444042205810547,
          12.988543510437012,
          11.939478874206543,
          13.1187162399292,
          13.708924293518066,
          14.74398422241211,
          11.290116310119629,
          13.836223602294922,
          13.099998474121094,
          14.308008193969727,
          14.378117561340332,
          13.605929374694824,
          15.9103422164917,
          13.372895240783691,
          14.544729232788086,
          13.591995239257812,
          16.04570198059082,
          13.977004051208496,
          15.356626510620117,
          14.784337997436523,
          15.489019393920898,
          12.12928581237793,
          12.925077438354492,
          13.904723167419434,
          14.995041847229004,
          15.351044654846191,
          12.850348472595215,
          13.172320365905762,
          11.449653625488281,
          10.383724212646484,
          15.9876127243042,
          14.196965217590332,
          10.138228416442871,
          14.663790702819824,
          14.332736015319824,
          15.081564903259277,
          13.993976593017578,
          12.23336124420166,
          15.031765937805176,
          13.014021873474121,
          10.724309921264648,
          13.062076568603516,
          15.361140251159668,
          11.32189655303955,
          12.805286407470703,
          12.45304012298584,
          13.693379402160645,
          11.642203330993652,
          15.522992134094238,
          13.839107513427734,
          9.849051475524902,
          11.591012954711914,
          13.945745468139648,
          11.239188194274902,
          11.728957176208496,
          15.07330322265625,
          11.86799430847168,
          15.818534851074219,
          11.071276664733887,
          12.202037811279297,
          15.49002742767334,
          13.353957176208496,
          15.619439125061035,
          14.018831253051758,
          15.389629364013672,
          12.422507286071777,
          11.798040390014648,
          15.040013313293457,
          14.73684024810791,
          13.152754783630371,
          11.303964614868164,
          14.554368019104004,
          15.991811752319336,
          13.066798210144043,
          0.018937192857265472,
          0.14972904324531555,
          14.879789352416992,
          0.08480828255414963,
          10.511390686035156,
          14.673227310180664,
          12.317063331604004,
          13.594571113586426,
          16.68851661682129,
          15.541735649108887,
          13.965960502624512,
          13.308152198791504,
          10.605973243713379,
          14.45079517364502,
          12.456490516662598,
          12.61496639251709,
          11.869741439819336,
          11.921998977661133,
          11.50380802154541,
          12.859894752502441,
          14.667015075683594,
          12.65990924835205,
          13.541987419128418,
          13.292932510375977,
          14.650543212890625,
          14.209381103515625,
          12.747365951538086,
          11.902592658996582,
          12.976885795593262,
          11.807421684265137,
          15.156572341918945,
          11.728889465332031,
          12.492571830749512,
          13.071181297302246,
          15.5831880569458,
          12.749187469482422,
          12.4558687210083,
          14.937803268432617,
          15.918912887573242,
          10.764842987060547,
          11.779257774353027,
          12.358073234558105,
          11.810699462890625,
          13.093984603881836,
          11.89113712310791,
          16.069345474243164,
          15.06142520904541,
          13.250418663024902,
          14.494671821594238,
          10.901506423950195,
          13.025710105895996,
          13.940895080566406,
          11.702410697937012,
          16.669605255126953,
          15.390303611755371,
          12.570296287536621,
          14.470664024353027,
          11.0471830368042,
          12.858529090881348,
          12.570180892944336,
          11.777605056762695,
          15.585311889648438,
          15.410639762878418,
          15.200318336486816,
          12.11023235321045,
          11.975759506225586,
          15.141029357910156,
          10.81744384765625,
          11.799458503723145,
          15.995427131652832,
          11.759295463562012,
          15.554616928100586,
          15.665188789367676,
          12.93323040008545,
          11.664216995239258,
          13.12579345703125,
          12.77641487121582,
          14.993395805358887,
          13.075165748596191,
          11.40573501586914,
          15.220621109008789,
          12.45197582244873,
          14.960092544555664,
          15.389107704162598,
          13.932323455810547,
          13.55124568939209,
          12.193734169006348,
          15.531068801879883,
          15.149283409118652,
          13.605481147766113,
          15.05061149597168,
          11.162467002868652,
          16.46918487548828,
          14.790144920349121,
          12.051495552062988,
          11.35482406616211,
          15.069883346557617,
          12.562385559082031,
          11.545738220214844,
          16.05747413635254,
          15.246552467346191,
          14.3966064453125,
          12.651702880859375,
          11.311734199523926,
          14.480314254760742,
          14.101940155029297,
          14.680910110473633,
          12.062970161437988,
          11.828683853149414,
          14.11325740814209,
          12.097466468811035,
          12.820520401000977,
          13.013343811035156,
          14.934061050415039,
          16.149524688720703,
          12.930231094360352,
          12.480831146240234,
          14.887965202331543,
          12.075544357299805,
          14.5806245803833,
          11.340153694152832,
          11.831536293029785,
          12.799764633178711,
          15.040779113769531,
          13.01324462890625,
          14.189657211303711,
          14.940374374389648,
          14.55791187286377,
          15.41221809387207,
          12.914586067199707,
          11.669689178466797,
          13.876954078674316,
          13.256782531738281,
          13.724398612976074,
          13.126456260681152,
          15.314462661743164,
          13.054457664489746,
          14.331308364868164,
          13.021990776062012,
          15.229049682617188,
          12.8504056930542,
          15.674221992492676,
          15.799370765686035,
          -0.4343557059764862,
          11.103285789489746,
          14.915084838867188,
          11.372719764709473,
          11.769144058227539,
          15.594447135925293,
          14.629794120788574,
          14.41404914855957,
          15.406311988830566,
          15.296255111694336,
          15.185917854309082,
          15.466416358947754,
          14.05762004852295,
          11.445915222167969,
          15.71463394165039,
          12.329501152038574,
          13.139368057250977,
          13.835942268371582,
          10.751422882080078,
          16.044082641601562,
          11.533947944641113,
          10.417346954345703,
          15.246539115905762,
          13.858644485473633,
          14.36782455444336,
          13.752249717712402,
          10.561458587646484,
          14.415535926818848,
          11.99996280670166,
          15.578660011291504,
          11.204176902770996,
          12.936301231384277,
          15.13674259185791,
          13.014562606811523,
          11.07225513458252,
          16.59931182861328,
          15.516282081604004,
          13.253263473510742,
          13.087692260742188,
          15.796209335327148,
          11.872897148132324,
          11.497526168823242,
          11.480191230773926,
          15.46142578125,
          16.666593551635742,
          12.765128135681152,
          15.95115852355957,
          14.927457809448242,
          11.770441055297852,
          15.835390090942383,
          15.461813926696777,
          14.178018569946289,
          13.278312683105469,
          15.16430377960205,
          7.470921993255615,
          14.41885757446289,
          14.244807243347168,
          16.620159149169922,
          15.359773635864258,
          15.68446159362793,
          13.855489730834961,
          13.483434677124023,
          13.222970008850098,
          15.29438304901123,
          10.672039031982422,
          13.059778213500977,
          12.745911598205566,
          13.648050308227539,
          15.194599151611328,
          13.961792945861816,
          15.431365013122559,
          13.306159973144531,
          13.2285795211792,
          15.573019027709961,
          14.302375793457031,
          12.435897827148438,
          15.708414077758789,
          12.498679161071777,
          11.364048957824707,
          13.580781936645508,
          14.267889976501465,
          11.01270580291748,
          11.618684768676758,
          12.32221794128418,
          13.910811424255371,
          13.412354469299316,
          13.445611000061035,
          15.034171104431152,
          11.078886985778809,
          13.176276206970215,
          15.094980239868164,
          15.055045127868652,
          9.950721740722656,
          15.770889282226562,
          14.720444679260254,
          14.97346305847168,
          11.567188262939453,
          13.961793899536133,
          12.671263694763184,
          16.49004364013672,
          15.950298309326172,
          14.236329078674316,
          14.961793899536133,
          15.41248893737793,
          14.92158031463623,
          15.68325424194336,
          15.468547821044922,
          15.765769958496094,
          13.78683090209961,
          13.17812728881836,
          13.185543060302734,
          15.690864562988281,
          11.52664852142334,
          13.215994834899902,
          15.951221466064453,
          13.075190544128418,
          13.536182403564453,
          11.806777954101562,
          12.845135688781738,
          15.392481803894043,
          13.235160827636719,
          13.105026245117188,
          15.45492172241211,
          15.41259479522705,
          15.361339569091797,
          15.06473445892334,
          13.005777359008789,
          11.324578285217285,
          12.886666297912598,
          12.003593444824219,
          13.770174980163574,
          14.04671573638916,
          13.180429458618164,
          14.421427726745605,
          12.704374313354492,
          11.52310562133789,
          11.846718788146973,
          12.582849502563477,
          13.830404281616211,
          13.037236213684082,
          15.14416217803955,
          13.011609077453613,
          15.641775131225586,
          15.680262565612793,
          15.213521003723145,
          15.358989715576172,
          12.01817798614502,
          13.302367210388184,
          15.497246742248535,
          13.771207809448242,
          15.8834228515625,
          13.039615631103516,
          12.795598983764648,
          14.345047950744629,
          13.275496482849121,
          12.8041353225708,
          15.735373497009277,
          14.18917179107666,
          11.417981147766113,
          12.452757835388184,
          12.820128440856934,
          15.234140396118164,
          12.952499389648438,
          12.670549392700195,
          14.748750686645508,
          12.742201805114746,
          9.75209903717041,
          11.326360702514648,
          13.964776039123535,
          14.359357833862305,
          12.447477340698242,
          15.234655380249023,
          15.282176971435547,
          15.39215087890625,
          15.49315071105957,
          15.210683822631836,
          15.249265670776367,
          11.89368724822998,
          16.1956787109375,
          13.573854446411133,
          15.075562477111816,
          15.293255805969238,
          11.413914680480957,
          14.899236679077148,
          15.158714294433594,
          14.777239799499512,
          15.075833320617676,
          15.857257843017578,
          14.192143440246582,
          10.797506332397461,
          13.011795043945312,
          11.42287540435791,
          12.799985885620117,
          14.365894317626953,
          12.60952091217041,
          11.451502799987793,
          11.556151390075684,
          14.934678077697754,
          11.398533821105957,
          11.851652145385742,
          12.05589771270752,
          15.062968254089355,
          13.483765602111816,
          16.650903701782227,
          13.669095039367676,
          11.817451477050781,
          11.334366798400879,
          15.6382417678833,
          14.598294258117676,
          15.64648151397705,
          13.035040855407715,
          10.868005752563477,
          13.491480827331543,
          15.451767921447754,
          16.12657356262207,
          14.933621406555176,
          12.715941429138184,
          16.63191032409668,
          15.346016883850098,
          13.250022888183594,
          15.265458106994629,
          11.482527732849121,
          13.232965469360352,
          13.078694343566895,
          13.716633796691895,
          15.669136047363281,
          16.0333309173584,
          15.159369468688965,
          10.958171844482422,
          11.91968059539795,
          14.89394760131836,
          12.643418312072754,
          14.683758735656738,
          15.650337219238281,
          14.809761047363281,
          12.604229927062988,
          14.197598457336426,
          12.791938781738281,
          7.44927453994751,
          12.667824745178223,
          13.527996063232422,
          15.183249473571777,
          15.452425956726074,
          14.495434761047363,
          14.94810676574707,
          12.799253463745117,
          13.888389587402344,
          15.765081405639648,
          15.415867805480957,
          15.712181091308594,
          15.478987693786621,
          11.879936218261719,
          12.545364379882812,
          15.950407028198242,
          14.814228057861328,
          13.947701454162598,
          14.827327728271484
         ],
         "yaxis": "y"
        }
       ],
       "layout": {
        "coloraxis": {
         "colorbar": {
          "title": {
           "text": "topic"
          }
         },
         "colorscale": [
          [
           0,
           "#0d0887"
          ],
          [
           0.1111111111111111,
           "#46039f"
          ],
          [
           0.2222222222222222,
           "#7201a8"
          ],
          [
           0.3333333333333333,
           "#9c179e"
          ],
          [
           0.4444444444444444,
           "#bd3786"
          ],
          [
           0.5555555555555556,
           "#d8576b"
          ],
          [
           0.6666666666666666,
           "#ed7953"
          ],
          [
           0.7777777777777778,
           "#fb9f3a"
          ],
          [
           0.8888888888888888,
           "#fdca26"
          ],
          [
           1,
           "#f0f921"
          ]
         ]
        },
        "legend": {
         "tracegroupgap": 0
        },
        "template": {
         "data": {
          "bar": [
           {
            "error_x": {
             "color": "#2a3f5f"
            },
            "error_y": {
             "color": "#2a3f5f"
            },
            "marker": {
             "line": {
              "color": "#E5ECF6",
              "width": 0.5
             },
             "pattern": {
              "fillmode": "overlay",
              "size": 10,
              "solidity": 0.2
             }
            },
            "type": "bar"
           }
          ],
          "barpolar": [
           {
            "marker": {
             "line": {
              "color": "#E5ECF6",
              "width": 0.5
             },
             "pattern": {
              "fillmode": "overlay",
              "size": 10,
              "solidity": 0.2
             }
            },
            "type": "barpolar"
           }
          ],
          "carpet": [
           {
            "aaxis": {
             "endlinecolor": "#2a3f5f",
             "gridcolor": "white",
             "linecolor": "white",
             "minorgridcolor": "white",
             "startlinecolor": "#2a3f5f"
            },
            "baxis": {
             "endlinecolor": "#2a3f5f",
             "gridcolor": "white",
             "linecolor": "white",
             "minorgridcolor": "white",
             "startlinecolor": "#2a3f5f"
            },
            "type": "carpet"
           }
          ],
          "choropleth": [
           {
            "colorbar": {
             "outlinewidth": 0,
             "ticks": ""
            },
            "type": "choropleth"
           }
          ],
          "contour": [
           {
            "colorbar": {
             "outlinewidth": 0,
             "ticks": ""
            },
            "colorscale": [
             [
              0,
              "#0d0887"
             ],
             [
              0.1111111111111111,
              "#46039f"
             ],
             [
              0.2222222222222222,
              "#7201a8"
             ],
             [
              0.3333333333333333,
              "#9c179e"
             ],
             [
              0.4444444444444444,
              "#bd3786"
             ],
             [
              0.5555555555555556,
              "#d8576b"
             ],
             [
              0.6666666666666666,
              "#ed7953"
             ],
             [
              0.7777777777777778,
              "#fb9f3a"
             ],
             [
              0.8888888888888888,
              "#fdca26"
             ],
             [
              1,
              "#f0f921"
             ]
            ],
            "type": "contour"
           }
          ],
          "contourcarpet": [
           {
            "colorbar": {
             "outlinewidth": 0,
             "ticks": ""
            },
            "type": "contourcarpet"
           }
          ],
          "heatmap": [
           {
            "colorbar": {
             "outlinewidth": 0,
             "ticks": ""
            },
            "colorscale": [
             [
              0,
              "#0d0887"
             ],
             [
              0.1111111111111111,
              "#46039f"
             ],
             [
              0.2222222222222222,
              "#7201a8"
             ],
             [
              0.3333333333333333,
              "#9c179e"
             ],
             [
              0.4444444444444444,
              "#bd3786"
             ],
             [
              0.5555555555555556,
              "#d8576b"
             ],
             [
              0.6666666666666666,
              "#ed7953"
             ],
             [
              0.7777777777777778,
              "#fb9f3a"
             ],
             [
              0.8888888888888888,
              "#fdca26"
             ],
             [
              1,
              "#f0f921"
             ]
            ],
            "type": "heatmap"
           }
          ],
          "heatmapgl": [
           {
            "colorbar": {
             "outlinewidth": 0,
             "ticks": ""
            },
            "colorscale": [
             [
              0,
              "#0d0887"
             ],
             [
              0.1111111111111111,
              "#46039f"
             ],
             [
              0.2222222222222222,
              "#7201a8"
             ],
             [
              0.3333333333333333,
              "#9c179e"
             ],
             [
              0.4444444444444444,
              "#bd3786"
             ],
             [
              0.5555555555555556,
              "#d8576b"
             ],
             [
              0.6666666666666666,
              "#ed7953"
             ],
             [
              0.7777777777777778,
              "#fb9f3a"
             ],
             [
              0.8888888888888888,
              "#fdca26"
             ],
             [
              1,
              "#f0f921"
             ]
            ],
            "type": "heatmapgl"
           }
          ],
          "histogram": [
           {
            "marker": {
             "pattern": {
              "fillmode": "overlay",
              "size": 10,
              "solidity": 0.2
             }
            },
            "type": "histogram"
           }
          ],
          "histogram2d": [
           {
            "colorbar": {
             "outlinewidth": 0,
             "ticks": ""
            },
            "colorscale": [
             [
              0,
              "#0d0887"
             ],
             [
              0.1111111111111111,
              "#46039f"
             ],
             [
              0.2222222222222222,
              "#7201a8"
             ],
             [
              0.3333333333333333,
              "#9c179e"
             ],
             [
              0.4444444444444444,
              "#bd3786"
             ],
             [
              0.5555555555555556,
              "#d8576b"
             ],
             [
              0.6666666666666666,
              "#ed7953"
             ],
             [
              0.7777777777777778,
              "#fb9f3a"
             ],
             [
              0.8888888888888888,
              "#fdca26"
             ],
             [
              1,
              "#f0f921"
             ]
            ],
            "type": "histogram2d"
           }
          ],
          "histogram2dcontour": [
           {
            "colorbar": {
             "outlinewidth": 0,
             "ticks": ""
            },
            "colorscale": [
             [
              0,
              "#0d0887"
             ],
             [
              0.1111111111111111,
              "#46039f"
             ],
             [
              0.2222222222222222,
              "#7201a8"
             ],
             [
              0.3333333333333333,
              "#9c179e"
             ],
             [
              0.4444444444444444,
              "#bd3786"
             ],
             [
              0.5555555555555556,
              "#d8576b"
             ],
             [
              0.6666666666666666,
              "#ed7953"
             ],
             [
              0.7777777777777778,
              "#fb9f3a"
             ],
             [
              0.8888888888888888,
              "#fdca26"
             ],
             [
              1,
              "#f0f921"
             ]
            ],
            "type": "histogram2dcontour"
           }
          ],
          "mesh3d": [
           {
            "colorbar": {
             "outlinewidth": 0,
             "ticks": ""
            },
            "type": "mesh3d"
           }
          ],
          "parcoords": [
           {
            "line": {
             "colorbar": {
              "outlinewidth": 0,
              "ticks": ""
             }
            },
            "type": "parcoords"
           }
          ],
          "pie": [
           {
            "automargin": true,
            "type": "pie"
           }
          ],
          "scatter": [
           {
            "fillpattern": {
             "fillmode": "overlay",
             "size": 10,
             "solidity": 0.2
            },
            "type": "scatter"
           }
          ],
          "scatter3d": [
           {
            "line": {
             "colorbar": {
              "outlinewidth": 0,
              "ticks": ""
             }
            },
            "marker": {
             "colorbar": {
              "outlinewidth": 0,
              "ticks": ""
             }
            },
            "type": "scatter3d"
           }
          ],
          "scattercarpet": [
           {
            "marker": {
             "colorbar": {
              "outlinewidth": 0,
              "ticks": ""
             }
            },
            "type": "scattercarpet"
           }
          ],
          "scattergeo": [
           {
            "marker": {
             "colorbar": {
              "outlinewidth": 0,
              "ticks": ""
             }
            },
            "type": "scattergeo"
           }
          ],
          "scattergl": [
           {
            "marker": {
             "colorbar": {
              "outlinewidth": 0,
              "ticks": ""
             }
            },
            "type": "scattergl"
           }
          ],
          "scattermapbox": [
           {
            "marker": {
             "colorbar": {
              "outlinewidth": 0,
              "ticks": ""
             }
            },
            "type": "scattermapbox"
           }
          ],
          "scatterpolar": [
           {
            "marker": {
             "colorbar": {
              "outlinewidth": 0,
              "ticks": ""
             }
            },
            "type": "scatterpolar"
           }
          ],
          "scatterpolargl": [
           {
            "marker": {
             "colorbar": {
              "outlinewidth": 0,
              "ticks": ""
             }
            },
            "type": "scatterpolargl"
           }
          ],
          "scatterternary": [
           {
            "marker": {
             "colorbar": {
              "outlinewidth": 0,
              "ticks": ""
             }
            },
            "type": "scatterternary"
           }
          ],
          "surface": [
           {
            "colorbar": {
             "outlinewidth": 0,
             "ticks": ""
            },
            "colorscale": [
             [
              0,
              "#0d0887"
             ],
             [
              0.1111111111111111,
              "#46039f"
             ],
             [
              0.2222222222222222,
              "#7201a8"
             ],
             [
              0.3333333333333333,
              "#9c179e"
             ],
             [
              0.4444444444444444,
              "#bd3786"
             ],
             [
              0.5555555555555556,
              "#d8576b"
             ],
             [
              0.6666666666666666,
              "#ed7953"
             ],
             [
              0.7777777777777778,
              "#fb9f3a"
             ],
             [
              0.8888888888888888,
              "#fdca26"
             ],
             [
              1,
              "#f0f921"
             ]
            ],
            "type": "surface"
           }
          ],
          "table": [
           {
            "cells": {
             "fill": {
              "color": "#EBF0F8"
             },
             "line": {
              "color": "white"
             }
            },
            "header": {
             "fill": {
              "color": "#C8D4E3"
             },
             "line": {
              "color": "white"
             }
            },
            "type": "table"
           }
          ]
         },
         "layout": {
          "annotationdefaults": {
           "arrowcolor": "#2a3f5f",
           "arrowhead": 0,
           "arrowwidth": 1
          },
          "autotypenumbers": "strict",
          "coloraxis": {
           "colorbar": {
            "outlinewidth": 0,
            "ticks": ""
           }
          },
          "colorscale": {
           "diverging": [
            [
             0,
             "#8e0152"
            ],
            [
             0.1,
             "#c51b7d"
            ],
            [
             0.2,
             "#de77ae"
            ],
            [
             0.3,
             "#f1b6da"
            ],
            [
             0.4,
             "#fde0ef"
            ],
            [
             0.5,
             "#f7f7f7"
            ],
            [
             0.6,
             "#e6f5d0"
            ],
            [
             0.7,
             "#b8e186"
            ],
            [
             0.8,
             "#7fbc41"
            ],
            [
             0.9,
             "#4d9221"
            ],
            [
             1,
             "#276419"
            ]
           ],
           "sequential": [
            [
             0,
             "#0d0887"
            ],
            [
             0.1111111111111111,
             "#46039f"
            ],
            [
             0.2222222222222222,
             "#7201a8"
            ],
            [
             0.3333333333333333,
             "#9c179e"
            ],
            [
             0.4444444444444444,
             "#bd3786"
            ],
            [
             0.5555555555555556,
             "#d8576b"
            ],
            [
             0.6666666666666666,
             "#ed7953"
            ],
            [
             0.7777777777777778,
             "#fb9f3a"
            ],
            [
             0.8888888888888888,
             "#fdca26"
            ],
            [
             1,
             "#f0f921"
            ]
           ],
           "sequentialminus": [
            [
             0,
             "#0d0887"
            ],
            [
             0.1111111111111111,
             "#46039f"
            ],
            [
             0.2222222222222222,
             "#7201a8"
            ],
            [
             0.3333333333333333,
             "#9c179e"
            ],
            [
             0.4444444444444444,
             "#bd3786"
            ],
            [
             0.5555555555555556,
             "#d8576b"
            ],
            [
             0.6666666666666666,
             "#ed7953"
            ],
            [
             0.7777777777777778,
             "#fb9f3a"
            ],
            [
             0.8888888888888888,
             "#fdca26"
            ],
            [
             1,
             "#f0f921"
            ]
           ]
          },
          "colorway": [
           "#636efa",
           "#EF553B",
           "#00cc96",
           "#ab63fa",
           "#FFA15A",
           "#19d3f3",
           "#FF6692",
           "#B6E880",
           "#FF97FF",
           "#FECB52"
          ],
          "font": {
           "color": "#2a3f5f"
          },
          "geo": {
           "bgcolor": "white",
           "lakecolor": "white",
           "landcolor": "#E5ECF6",
           "showlakes": true,
           "showland": true,
           "subunitcolor": "white"
          },
          "hoverlabel": {
           "align": "left"
          },
          "hovermode": "closest",
          "mapbox": {
           "style": "light"
          },
          "paper_bgcolor": "white",
          "plot_bgcolor": "#E5ECF6",
          "polar": {
           "angularaxis": {
            "gridcolor": "white",
            "linecolor": "white",
            "ticks": ""
           },
           "bgcolor": "#E5ECF6",
           "radialaxis": {
            "gridcolor": "white",
            "linecolor": "white",
            "ticks": ""
           }
          },
          "scene": {
           "xaxis": {
            "backgroundcolor": "#E5ECF6",
            "gridcolor": "white",
            "gridwidth": 2,
            "linecolor": "white",
            "showbackground": true,
            "ticks": "",
            "zerolinecolor": "white"
           },
           "yaxis": {
            "backgroundcolor": "#E5ECF6",
            "gridcolor": "white",
            "gridwidth": 2,
            "linecolor": "white",
            "showbackground": true,
            "ticks": "",
            "zerolinecolor": "white"
           },
           "zaxis": {
            "backgroundcolor": "#E5ECF6",
            "gridcolor": "white",
            "gridwidth": 2,
            "linecolor": "white",
            "showbackground": true,
            "ticks": "",
            "zerolinecolor": "white"
           }
          },
          "shapedefaults": {
           "line": {
            "color": "#2a3f5f"
           }
          },
          "ternary": {
           "aaxis": {
            "gridcolor": "white",
            "linecolor": "white",
            "ticks": ""
           },
           "baxis": {
            "gridcolor": "white",
            "linecolor": "white",
            "ticks": ""
           },
           "bgcolor": "#E5ECF6",
           "caxis": {
            "gridcolor": "white",
            "linecolor": "white",
            "ticks": ""
           }
          },
          "title": {
           "x": 0.05
          },
          "xaxis": {
           "automargin": true,
           "gridcolor": "white",
           "linecolor": "white",
           "ticks": "",
           "title": {
            "standoff": 15
           },
           "zerolinecolor": "white",
           "zerolinewidth": 2
          },
          "yaxis": {
           "automargin": true,
           "gridcolor": "white",
           "linecolor": "white",
           "ticks": "",
           "title": {
            "standoff": 15
           },
           "zerolinecolor": "white",
           "zerolinewidth": 2
          }
         }
        },
        "title": {
         "text": "Document Clusters"
        },
        "xaxis": {
         "anchor": "y",
         "domain": [
          0,
          1
         ],
         "title": {
          "text": "x"
         }
        },
        "yaxis": {
         "anchor": "x",
         "domain": [
          0,
          1
         ],
         "title": {
          "text": "y"
         }
        }
       }
      }
     },
     "metadata": {},
     "output_type": "display_data"
    }
   ],
   "source": [
    "import plotly.express as px\n",
    "\n",
    "# Reduce dimensionality of embeddings for visualization\n",
    "umap_2d = UMAP(n_components=2, random_state=42)\n",
    "embeddings_2d = umap_2d.fit_transform(embeddings)\n",
    "\n",
    "# Create a DataFrame with 2D embeddings and topic labels\n",
    "df_embeddings_2d = pd.DataFrame(embeddings_2d, columns=['x', 'y'])\n",
    "df_embeddings_2d['topic'] = topics\n",
    "\n",
    "# Plot the 2D embeddings\n",
    "fig = px.scatter(df_embeddings_2d, x='x', y='y', color='topic', title='Document Clusters')\n",
    "fig.show()"
   ]
  }
 ],
 "metadata": {
  "kernelspec": {
   "display_name": "bertopicnew",
   "language": "python",
   "name": "python3"
  },
  "language_info": {
   "codemirror_mode": {
    "name": "ipython",
    "version": 3
   },
   "file_extension": ".py",
   "mimetype": "text/x-python",
   "name": "python",
   "nbconvert_exporter": "python",
   "pygments_lexer": "ipython3",
   "version": "3.9.19"
  }
 },
 "nbformat": 4,
 "nbformat_minor": 2
}
